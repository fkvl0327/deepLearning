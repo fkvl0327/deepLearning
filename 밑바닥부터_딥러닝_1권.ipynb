{
  "nbformat": 4,
  "nbformat_minor": 0,
  "metadata": {
    "kernelspec": {
      "display_name": "Python 3",
      "language": "python",
      "name": "python3"
    },
    "language_info": {
      "codemirror_mode": {
        "name": "ipython",
        "version": 3
      },
      "file_extension": ".py",
      "mimetype": "text/x-python",
      "name": "python",
      "nbconvert_exporter": "python",
      "pygments_lexer": "ipython3",
      "version": "3.8.3"
    },
    "toc": {
      "base_numbering": 1,
      "nav_menu": {},
      "number_sections": true,
      "sideBar": true,
      "skip_h1_title": false,
      "title_cell": "Table of Contents",
      "title_sidebar": "Contents",
      "toc_cell": false,
      "toc_position": {
        "height": "calc(100% - 180px)",
        "left": "10px",
        "top": "150px",
        "width": "279.273px"
      },
      "toc_section_display": true,
      "toc_window_display": true
    },
    "colab": {
      "name": "밑바닥부터 딥러닝 1권.ipynb",
      "provenance": [],
      "collapsed_sections": [
        "gNNPxjg3S0Ql",
        "OukWWIU_zYqQ",
        "fgTiW3r-S0Qv",
        "IJuRpTbwS0Qw",
        "Vuzu5QVdS0Qx",
        "Mcn36YWgS0Qy",
        "CSjXSF6GS0Qy",
        "ISNfNXI-S0Q1",
        "E3kRFiCgS0Q5",
        "aCEPP0XtS0Q8",
        "Z9bqR3BvS0Q9",
        "EX0XhkGIS0Q9",
        "MJdZ0wg7S0Q-",
        "QJyW120jS0Q-",
        "gcpO7fp1S0Q-",
        "F5LURTzWS0RB",
        "dizqiolmS0RF",
        "rW5NYVLAS0RF",
        "XKChOyhlS0RG"
      ],
      "toc_visible": true,
      "include_colab_link": true
    }
  },
  "cells": [
    {
      "cell_type": "markdown",
      "metadata": {
        "id": "view-in-github",
        "colab_type": "text"
      },
      "source": [
        "<a href=\"https://colab.research.google.com/github/fkvl0327/deepLearning/blob/main/%EB%B0%91%EB%B0%94%EB%8B%A5%EB%B6%80%ED%84%B0_%EB%94%A5%EB%9F%AC%EB%8B%9D_1%EA%B6%8C.ipynb\" target=\"_parent\"><img src=\"https://colab.research.google.com/assets/colab-badge.svg\" alt=\"Open In Colab\"/></a>"
      ]
    },
    {
      "cell_type": "markdown",
      "metadata": {
        "id": "gNNPxjg3S0Ql"
      },
      "source": [
        "# 2 퍼셉트론"
      ]
    },
    {
      "cell_type": "markdown",
      "metadata": {
        "id": "OukWWIU_zYqQ"
      },
      "source": [
        "## 2.1 퍼셉트론이란?"
      ]
    },
    {
      "cell_type": "markdown",
      "metadata": {
        "id": "NoNHyreizdse"
      },
      "source": [
        "- 다수의 신호를 받아 하나의 신호를 출력"
      ]
    },
    {
      "cell_type": "markdown",
      "metadata": {
        "id": "fgTiW3r-S0Qv"
      },
      "source": [
        "## 2.2 단순한 논리회로"
      ]
    },
    {
      "cell_type": "markdown",
      "metadata": {
        "id": "IJuRpTbwS0Qw"
      },
      "source": [
        "### 2.2.1 AND 게이트"
      ]
    },
    {
      "cell_type": "markdown",
      "metadata": {
        "id": "8oeSeCG7S0Qx"
      },
      "source": [
        "- x1과 x2 모두가 1일 때만 가중 신호의 총합이 주어진 임계값을 웃돈다."
      ]
    },
    {
      "cell_type": "markdown",
      "metadata": {
        "id": "Vuzu5QVdS0Qx"
      },
      "source": [
        "### 2.2.2 NAND 게이트와 OR 게이트"
      ]
    },
    {
      "cell_type": "markdown",
      "metadata": {
        "id": "8r5XNOYaS0Qx"
      },
      "source": [
        "- NAND = Not AND\n",
        "\n",
        "> AND 게이트의 출력을 뒤집은 것\n",
        "\n",
        "> x1과 x2 모두 1일 때만 0을 출력하고, 그 외에는 1을 출력\n",
        "\n",
        "- OR 게이트: 입력 신호 중 하나 이상이 1이면 출력이 1이 되는 논리 회로"
      ]
    },
    {
      "cell_type": "markdown",
      "metadata": {
        "id": "Mcn36YWgS0Qy"
      },
      "source": [
        "## 2.3 퍼셉트론 구현하기"
      ]
    },
    {
      "cell_type": "markdown",
      "metadata": {
        "id": "CSjXSF6GS0Qy"
      },
      "source": [
        "### 2.3.1 간단한 구현부터"
      ]
    },
    {
      "cell_type": "code",
      "metadata": {
        "id": "vZnanAEHS0Qy"
      },
      "source": [
        "def AND(x1, x2):\n",
        "    w1, w2, theta = 0.5, 0.5, 0.7\n",
        "    tmp = x1*w1 + x2*w2\n",
        "    if tmp <= theta:\n",
        "        return 0\n",
        "    elif tmp > theta:\n",
        "        return 1"
      ],
      "execution_count": null,
      "outputs": []
    },
    {
      "cell_type": "code",
      "metadata": {
        "id": "s5VGR0GtS0Qz",
        "outputId": "1ba805fa-36e4-4f98-fd25-f9c14a2d2b7c"
      },
      "source": [
        "AND(0,0)"
      ],
      "execution_count": null,
      "outputs": [
        {
          "output_type": "execute_result",
          "data": {
            "text/plain": [
              "0"
            ]
          },
          "metadata": {
            "tags": []
          },
          "execution_count": 34
        }
      ]
    },
    {
      "cell_type": "code",
      "metadata": {
        "id": "4S3VlMRkS0Q0",
        "outputId": "06d603c0-601b-4c8c-e3a4-6093bbd24462"
      },
      "source": [
        "AND(1,0)"
      ],
      "execution_count": null,
      "outputs": [
        {
          "output_type": "execute_result",
          "data": {
            "text/plain": [
              "0"
            ]
          },
          "metadata": {
            "tags": []
          },
          "execution_count": 35
        }
      ]
    },
    {
      "cell_type": "code",
      "metadata": {
        "id": "upD95NLLS0Q0",
        "outputId": "4792b6cd-79fd-407a-fc8e-d0465ca9958c"
      },
      "source": [
        "AND(0,1)"
      ],
      "execution_count": null,
      "outputs": [
        {
          "output_type": "execute_result",
          "data": {
            "text/plain": [
              "0"
            ]
          },
          "metadata": {
            "tags": []
          },
          "execution_count": 36
        }
      ]
    },
    {
      "cell_type": "code",
      "metadata": {
        "id": "RNazFDdES0Q1",
        "outputId": "5fb4e2a8-e582-4bee-e5ce-2af329903961"
      },
      "source": [
        "AND(1,1)"
      ],
      "execution_count": null,
      "outputs": [
        {
          "output_type": "execute_result",
          "data": {
            "text/plain": [
              "1"
            ]
          },
          "metadata": {
            "tags": []
          },
          "execution_count": 37
        }
      ]
    },
    {
      "cell_type": "markdown",
      "metadata": {
        "id": "ISNfNXI-S0Q1"
      },
      "source": [
        "### 2.3.2 가중치와 편향 도입"
      ]
    },
    {
      "cell_type": "markdown",
      "metadata": {
        "id": "l2VCpqMqS0Q1"
      },
      "source": [
        "- -theta를 편향 b로 치환"
      ]
    },
    {
      "cell_type": "code",
      "metadata": {
        "id": "ROFh0ZroS0Q2",
        "outputId": "6b16f06d-52ac-4358-b5a1-921a6730ecea"
      },
      "source": [
        "import numpy as np\n",
        "x = np.array([0, 1]) # 입력\n",
        "w = np.array([0.5, 0.5]) # 가중치\n",
        "b = -0.7 # 편향\n",
        "w*x"
      ],
      "execution_count": null,
      "outputs": [
        {
          "output_type": "execute_result",
          "data": {
            "text/plain": [
              "array([0. , 0.5])"
            ]
          },
          "metadata": {
            "tags": []
          },
          "execution_count": 38
        }
      ]
    },
    {
      "cell_type": "code",
      "metadata": {
        "id": "RAbepX5XS0Q2",
        "outputId": "4e4476b0-3b33-4a84-c882-a5aff8bed7f3"
      },
      "source": [
        "np.sum(w*x)"
      ],
      "execution_count": null,
      "outputs": [
        {
          "output_type": "execute_result",
          "data": {
            "text/plain": [
              "0.5"
            ]
          },
          "metadata": {
            "tags": []
          },
          "execution_count": 39
        }
      ]
    },
    {
      "cell_type": "code",
      "metadata": {
        "id": "cB8_qMHtS0Q5",
        "outputId": "590930ac-7742-4be1-b9dd-17af7baadc5b"
      },
      "source": [
        "np.sum(w*x)+b"
      ],
      "execution_count": null,
      "outputs": [
        {
          "output_type": "execute_result",
          "data": {
            "text/plain": [
              "-0.19999999999999996"
            ]
          },
          "metadata": {
            "tags": []
          },
          "execution_count": 40
        }
      ]
    },
    {
      "cell_type": "markdown",
      "metadata": {
        "id": "E3kRFiCgS0Q5"
      },
      "source": [
        "### 2.3.3 가중치와 편향 구현하기"
      ]
    },
    {
      "cell_type": "markdown",
      "metadata": {
        "id": "PX1yzcUaS0Q6"
      },
      "source": [
        "- AND 게이트"
      ]
    },
    {
      "cell_type": "code",
      "metadata": {
        "id": "XFaoLxQZS0Q6"
      },
      "source": [
        "def AND(x1, x2):\n",
        "    x = np.array([x1, x2])\n",
        "    w = np.array([0.5, 0.5])\n",
        "    b = -0.7\n",
        "    tmp = np.sum(w*x)+b\n",
        "    if tmp <=0:\n",
        "        return 0\n",
        "    else:\n",
        "        return 1"
      ],
      "execution_count": null,
      "outputs": []
    },
    {
      "cell_type": "markdown",
      "metadata": {
        "id": "jOGldVsYS0Q7"
      },
      "source": [
        "- NAND 게이트"
      ]
    },
    {
      "cell_type": "code",
      "metadata": {
        "id": "_iyHFCtgS0Q7"
      },
      "source": [
        "def NAND(x1, x2):\n",
        "    x = np.array([x1, x2])\n",
        "    w = np.array([-0.5, -0.5])\n",
        "    b = 0.7\n",
        "    tmp = np.sum(w*x)+b\n",
        "    if tmp <= 0:\n",
        "        return 0\n",
        "    else:\n",
        "        return 1"
      ],
      "execution_count": null,
      "outputs": []
    },
    {
      "cell_type": "markdown",
      "metadata": {
        "id": "WDGWepngS0Q8"
      },
      "source": [
        "- OR 게이트"
      ]
    },
    {
      "cell_type": "code",
      "metadata": {
        "id": "9Lknug9US0Q8"
      },
      "source": [
        "def OR(x1, x2):\n",
        "    x = np.array([x1, x2])\n",
        "    w = np.array([0.5, 0.5])\n",
        "    b = -0.2\n",
        "    tmp = np.sum(w*x)+b\n",
        "    if tmp <=0:\n",
        "        return 0\n",
        "    else:\n",
        "        return 1"
      ],
      "execution_count": null,
      "outputs": []
    },
    {
      "cell_type": "markdown",
      "metadata": {
        "id": "aCEPP0XtS0Q8"
      },
      "source": [
        "## 2.4 퍼셉트론의 한계"
      ]
    },
    {
      "cell_type": "markdown",
      "metadata": {
        "id": "Z9bqR3BvS0Q9"
      },
      "source": [
        "### 2.4.1 XOR 게이트"
      ]
    },
    {
      "cell_type": "markdown",
      "metadata": {
        "id": "Mk3UBUofS0Q9"
      },
      "source": [
        "- 배타적 논리합: x1과 x2 중 한쪽이 1일 때만 1을 출력"
      ]
    },
    {
      "cell_type": "markdown",
      "metadata": {
        "id": "EX0XhkGIS0Q9"
      },
      "source": [
        "### 2.4.2 선형과 비선형"
      ]
    },
    {
      "cell_type": "markdown",
      "metadata": {
        "id": "FSdI5UErS0Q9"
      },
      "source": [
        "- 단순 퍼셉트론은 직선 하나로 나눈 영역만 표현할 수 있다는 한계가 있다.\n",
        "- 곡선의 영역을 비선형 영역, 직선의 영역을 선형 영역이라고 한다."
      ]
    },
    {
      "cell_type": "markdown",
      "metadata": {
        "id": "MJdZ0wg7S0Q-"
      },
      "source": [
        "## 2.5 다층 퍼셉트론"
      ]
    },
    {
      "cell_type": "markdown",
      "metadata": {
        "id": "QJyW120jS0Q-"
      },
      "source": [
        "### 2.5.1 기존 게이트 조합하기"
      ]
    },
    {
      "cell_type": "markdown",
      "metadata": {
        "id": "edxhjsv4S0Q-"
      },
      "source": [
        "- x1과 x2가 입력 신호, y가 출력 신호\n",
        "- x1과 x2는 NAND와 OR 게이트의 입력, NAND와 OR의 출력이 AND 게이트의 입력으로 이어진다."
      ]
    },
    {
      "cell_type": "markdown",
      "metadata": {
        "id": "gcpO7fp1S0Q-"
      },
      "source": [
        "### 2.5.2 XOR 게이트 구현하기"
      ]
    },
    {
      "cell_type": "code",
      "metadata": {
        "id": "dMLxs1XqS0Q_"
      },
      "source": [
        "def XOR(x1, x2):\n",
        "    s1 = NAND(x1, x2)\n",
        "    s2 = OR(x1, x2)\n",
        "    y = AND(s1, s2)\n",
        "    return y"
      ],
      "execution_count": null,
      "outputs": []
    },
    {
      "cell_type": "code",
      "metadata": {
        "id": "xgCfjM3GS0Q_",
        "outputId": "476208c0-2cf8-499c-e833-72278c2a3169"
      },
      "source": [
        "XOR(0,0)"
      ],
      "execution_count": null,
      "outputs": [
        {
          "output_type": "execute_result",
          "data": {
            "text/plain": [
              "0"
            ]
          },
          "metadata": {
            "tags": []
          },
          "execution_count": 48
        }
      ]
    },
    {
      "cell_type": "code",
      "metadata": {
        "id": "K5TxLOOgS0Q_",
        "outputId": "ab9938a1-45d6-4353-8876-8587b49d731c"
      },
      "source": [
        "XOR(1,0)"
      ],
      "execution_count": null,
      "outputs": [
        {
          "output_type": "execute_result",
          "data": {
            "text/plain": [
              "1"
            ]
          },
          "metadata": {
            "tags": []
          },
          "execution_count": 45
        }
      ]
    },
    {
      "cell_type": "code",
      "metadata": {
        "id": "n5wY9MnKS0RA",
        "outputId": "120c8e63-79a5-4b8f-a964-c5ce1b9c2af0"
      },
      "source": [
        "XOR(0,1)"
      ],
      "execution_count": null,
      "outputs": [
        {
          "output_type": "execute_result",
          "data": {
            "text/plain": [
              "1"
            ]
          },
          "metadata": {
            "tags": []
          },
          "execution_count": 46
        }
      ]
    },
    {
      "cell_type": "code",
      "metadata": {
        "id": "4ThJowYrS0RA",
        "outputId": "e7c0c9bc-1dd7-48e7-b0db-994652886566"
      },
      "source": [
        "XOR(1,1)"
      ],
      "execution_count": null,
      "outputs": [
        {
          "output_type": "execute_result",
          "data": {
            "text/plain": [
              "0"
            ]
          },
          "metadata": {
            "tags": []
          },
          "execution_count": 47
        }
      ]
    },
    {
      "cell_type": "markdown",
      "metadata": {
        "id": "zrQv0qx2S0RB"
      },
      "source": [
        "# 3 신경망"
      ]
    },
    {
      "cell_type": "markdown",
      "metadata": {
        "id": "cY-RrFFMS0RB"
      },
      "source": [
        "- 퍼셉트론\n",
        "\n",
        "> GOOD: 복잡한 함수도 표현할 수 있다\n",
        "\n",
        "> BAD: 가중치를 설정하는 작업(원하는 결과를 출력하도록 가중치 값을 적절히 정하는 작업)은 사람이 수동으로 한다 = AND, OR 게이트의 진리표를 보면서 인간이 적절한 가중치 값을 결정\n",
        "\n",
        "- 신경망이 퍼셉트론의 한계를 개선한다\n",
        "\n",
        "> 신경망의 중요한 성질: 가중치 매개변수의 적절한 값을 데이터로부터 자동으로 학습하는 능력\n",
        "\n",
        "- 이번 장의 내용\n",
        "\n",
        "> 신경망 개요 설명\n",
        "\n",
        "> 신경망이 입력 데이터가 무엇인지 식별하는 처리과정을 살펴봄\n",
        "\n",
        "\n",
        "* 데이터에서 가중치 매개변수 값을 학습하는 방법은 다음 장에서"
      ]
    },
    {
      "cell_type": "markdown",
      "metadata": {
        "id": "-SwICaw5S0RB"
      },
      "source": [
        "## 3.1 퍼셉트론에서 신경망으로"
      ]
    },
    {
      "cell_type": "markdown",
      "metadata": {
        "id": "F5LURTzWS0RB"
      },
      "source": [
        "### 3.1.1 신경망의 예"
      ]
    },
    {
      "cell_type": "markdown",
      "metadata": {
        "id": "dAp7tnBYuuwy"
      },
      "source": [
        "- 입력층 > 은닉층 > 출력층"
      ]
    },
    {
      "cell_type": "markdown",
      "metadata": {
        "id": "w1gcPJQKS0RC"
      },
      "source": [
        "### 3.1.2 퍼셉트론 복습"
      ]
    },
    {
      "cell_type": "markdown",
      "metadata": {
        "id": "wa_PEvr7ymo4"
      },
      "source": [
        "- $x_1$과 $x_2$라는 두 신호를 입력받아 y를 출력하는 퍼셉트론\r\n",
        "\r\n",
        "> $y=0(b+w_1x_1+w_2x_2\\leq0)$  \r\n",
        "> $y=1(b+w_1x_1+w_2x_2>0)$\r\n",
        "\r\n",
        "> b는 편향을 나타내는 매개변수, 뉴런이 얼마나 쉽게 활성화되는지를 제어\r\n",
        "\r\n",
        "> $w_1$과 $w_2$는 각 신호의 가중치를 나타내는 매개변수, 각 신호의 영향력을 제어\r\n",
        "\r\n",
        "- 더 간결한 형태로 다시 작성해 보면\r\n",
        "\r\n",
        "> $y=h(b+w_1x_1+w_2x_2)$\r\n",
        "\r\n",
        "> $h(x) = 0(x\\leq0)$ or $1(x>0)$ "
      ]
    },
    {
      "cell_type": "markdown",
      "metadata": {
        "id": "3ZpeHo4rS0RC"
      },
      "source": [
        "### 3.1.3 활성화 함수의 등장"
      ]
    },
    {
      "cell_type": "markdown",
      "metadata": {
        "id": "5KZd1Mz_spQY"
      },
      "source": [
        "- $h(x)$와 같이 입력 신호의 총합을 출력 신호로 변환하는 함수를 일반적으로 활성화 함수(activation function)라 한다.\r\n",
        "- 활성화 함수는 입력 신호의 총합이 활성화를 일으키는지 정하는 역할"
      ]
    },
    {
      "cell_type": "markdown",
      "metadata": {
        "id": "3tg5OnOpS0RC"
      },
      "source": [
        "## 3.2 활성화 함수"
      ]
    },
    {
      "cell_type": "markdown",
      "metadata": {
        "id": "EXE-8tYaS0RC"
      },
      "source": [
        "### 3.2.1 시그모이드 함수(sigmoid function)"
      ]
    },
    {
      "cell_type": "markdown",
      "metadata": {
        "id": "-JpYzUYQulpO"
      },
      "source": [
        "$h(x) = \\frac{1}{1+exp(-x)}$\r\n",
        "\r\n",
        "- exp$(-x)$는 $e^{-x}$를 뜻함\r\n",
        "- $e$는 자연상수로 2.7182...의 값을 갖는 실수\r\n",
        "- 예를 들어 시그모이드 함수에 1.0과 2.0을 입력하면 $h(1.0)=0.731...$, $h(2.0)=0.880...$처럼 특정 값을 출력한다."
      ]
    },
    {
      "cell_type": "markdown",
      "metadata": {
        "id": "w9OwIFjHS0RD"
      },
      "source": [
        "### 3.2.2 계단 함수 구현하기"
      ]
    },
    {
      "cell_type": "markdown",
      "metadata": {
        "id": "NKoYMVYpxRqo"
      },
      "source": [
        "- 계단 함수는 입력이 0을 넘으면 1을 출력하고, 그 외에는 0을 출력하는 함수"
      ]
    },
    {
      "cell_type": "code",
      "metadata": {
        "id": "hyhp3D_hxBx9"
      },
      "source": [
        "def step_function(x):\r\n",
        "    if x>0:\r\n",
        "        return 1\r\n",
        "    else:\r\n",
        "        return 0"
      ],
      "execution_count": null,
      "outputs": []
    },
    {
      "cell_type": "markdown",
      "metadata": {
        "id": "uLUtoY5xxcMX"
      },
      "source": [
        "- 인수 x는 실수(부동소수점)만 받아들이므로, 넘파이 배열을 파라미터로 넣을 수는 없다.\r\n",
        "- 넘파이 배열도 지원하도록 아래와 같이 수정한다."
      ]
    },
    {
      "cell_type": "code",
      "metadata": {
        "id": "TJg2kT-IxvRu"
      },
      "source": [
        "def step_function(x):\r\n",
        "    y=x>0\r\n",
        "    return y.astype(np.int)"
      ],
      "execution_count": null,
      "outputs": []
    },
    {
      "cell_type": "markdown",
      "metadata": {
        "id": "BP_tcrSlS0RD"
      },
      "source": [
        "### 3.2.3 계단 함수의 그래프"
      ]
    },
    {
      "cell_type": "code",
      "metadata": {
        "colab": {
          "base_uri": "https://localhost:8080/",
          "height": 265
        },
        "id": "iGflZ-d3yTdy",
        "outputId": "a70d6c2c-0edf-4923-db30-7db3db87427f"
      },
      "source": [
        "import numpy as np\r\n",
        "import matplotlib.pylab as plt\r\n",
        "\r\n",
        "def step_function(x):\r\n",
        "    return np.array(x>0, dtype=np.int)\r\n",
        "\r\n",
        "x=np.arange(-5.0, 5.0, 0.1)\r\n",
        "y=step_function(x)\r\n",
        "plt.plot(x,y)\r\n",
        "plt.ylim(-0.1, 1.1)\r\n",
        "plt.show()"
      ],
      "execution_count": 1,
      "outputs": [
        {
          "output_type": "display_data",
          "data": {
            "image/png": "[encoded data removed]",
            "text/plain": [
              "<Figure size 432x288 with 1 Axes>"
            ]
          },
          "metadata": {
            "tags": [],
            "needs_background": "light"
          }
        }
      ]
    },
    {
      "cell_type": "markdown",
      "metadata": {
        "id": "eFB-m129S0RD"
      },
      "source": [
        "### 3.2.4 시그모이드 함수 구현하기"
      ]
    },
    {
      "cell_type": "markdown",
      "metadata": {
        "id": "mZS3lUsTzoZh"
      },
      "source": [
        "- 인수 $x$가 넘파이 배열이어도 올바른 결과가 나온다."
      ]
    },
    {
      "cell_type": "code",
      "metadata": {
        "colab": {
          "base_uri": "https://localhost:8080/"
        },
        "id": "vYaF4Xdzy397",
        "outputId": "0b57b1b2-cc53-47dc-f808-79da03c4d2c2"
      },
      "source": [
        "def sigmoid(x):\r\n",
        "    return 1 / (1+np.exp(-x))\r\n",
        "\r\n",
        "x = np.array([-1.0, 1.0, 2.0])\r\n",
        "sigmoid(x)"
      ],
      "execution_count": 2,
      "outputs": [
        {
          "output_type": "execute_result",
          "data": {
            "text/plain": [
              "array([0.26894142, 0.73105858, 0.88079708])"
            ]
          },
          "metadata": {
            "tags": []
          },
          "execution_count": 2
        }
      ]
    },
    {
      "cell_type": "markdown",
      "metadata": {
        "id": "07B4KaCCz0mi"
      },
      "source": [
        "- 시그모이드 함수를 그래프로 그려보자."
      ]
    },
    {
      "cell_type": "code",
      "metadata": {
        "colab": {
          "base_uri": "https://localhost:8080/",
          "height": 265
        },
        "id": "FCGjdj7Jz4qi",
        "outputId": "29b67c09-9200-44a4-82d4-24544658bc51"
      },
      "source": [
        "x = np.arange(-5.0, 5.0, 0.1)\r\n",
        "y = sigmoid(x)\r\n",
        "plt.plot(x, y)\r\n",
        "plt.ylim(-0.1, 1.1)\r\n",
        "plt.show()"
      ],
      "execution_count": 5,
      "outputs": [
        {
          "output_type": "display_data",
          "data": {
            "image/png": "[encoded data removed]",
            "text/plain": [
              "<Figure size 432x288 with 1 Axes>"
            ]
          },
          "metadata": {
            "tags": [],
            "needs_background": "light"
          }
        }
      ]
    },
    {
      "cell_type": "markdown",
      "metadata": {
        "id": "Uc0-6p_x0XNl"
      },
      "source": [
        "- 시그모이드는 S자 모양"
      ]
    },
    {
      "cell_type": "markdown",
      "metadata": {
        "id": "OOqbUDvSS0RD"
      },
      "source": [
        "### 3.2.5 시그모이드 함수와 계단 함수 비교"
      ]
    },
    {
      "cell_type": "markdown",
      "metadata": {
        "id": "YL7sZAGw0vKc"
      },
      "source": [
        "- 시그모이드\r\n",
        " - 부드러운 곡선  \r\n",
        " - 입력에 따라 출력이 연속적으로 변화  \r\n",
        " - 실수를 리턴\r\n",
        "\r\n",
        "- 계단 함수\r\n",
        " - 0을 경계로 출력이 갑자기 변화  \r\n",
        " - 0과 1 중 하나의 값만 리턴\r\n",
        "\r\n",
        "- 시그모이드 함수의 '매끈함'이 신경망 학습에서 아주 중요한 역할"
      ]
    },
    {
      "cell_type": "markdown",
      "metadata": {
        "id": "LSCBMEG0S0RE"
      },
      "source": [
        "### 3.2.6 비선형 함수"
      ]
    },
    {
      "cell_type": "markdown",
      "metadata": {
        "id": "2UNeiE812ckU"
      },
      "source": [
        "- 선형 함수\r\n",
        " - $f(x)=ax+b$\r\n",
        " - 출력이 입력의 상수배만큼 변하는 함수\r\n",
        " - 그래프는 곧은 1개의 직선\r\n",
        "\r\n",
        "- 비선형 함수\r\n",
        " - 선형이 아닌 함수\r\n",
        " - 직선 1개로는 그릴 수 없는 함수\r\n",
        " - 시그모이드 함수와 계단 함수는 모두 비선형 함수\r\n",
        "\r\n",
        "- 신경망에서는 활성화 함수로 비선형 함수를 사용해야 한다.  \r\n",
        " = 선형 함수를 사용해서는 안 된다.\r\n",
        "  ∵ 선형 함수를 이용하면 신경망의 층을 깊게 하는 의미가 없다.\r\n",
        "\r\n",
        "- 선형 함수의 문제  \r\n",
        " = 층을 아무리 깊게 해도 '은닉층이 없는 네트워크'로도 똑같은 기능을 할 수 있다.  \r\n",
        " = 층을 쌓는 혜택을 얻을 수 없다."
      ]
    },
    {
      "cell_type": "markdown",
      "metadata": {
        "id": "FgcgJriFS0RE"
      },
      "source": [
        "### 3.2.7 ReLU 함수"
      ]
    },
    {
      "cell_type": "markdown",
      "metadata": {
        "id": "DojiRGlG6-zK"
      },
      "source": [
        "- Rectified Linear Unit, 렐루\r\n",
        "- 입력이 0을 넘으면 그 입력을 그대로 출력하고, 0 이하이면 0을 출력하는 함수\r\n",
        "- $h(x) = x(x>0)$ or $h(x) = 0(x\\leq0)$"
      ]
    },
    {
      "cell_type": "code",
      "metadata": {
        "id": "ta73QoxE7q9B"
      },
      "source": [
        "def relu(x):\r\n",
        "    return np.maximum(0, x)"
      ],
      "execution_count": null,
      "outputs": []
    },
    {
      "cell_type": "markdown",
      "metadata": {
        "id": "kDwe--iN722o"
      },
      "source": [
        "- 책 후반부에서는 주로 ReLU 함수를 사용한다."
      ]
    },
    {
      "cell_type": "markdown",
      "metadata": {
        "id": "zaISa70LS0RE"
      },
      "source": [
        "## 3.3 다차원 배열의 계산"
      ]
    },
    {
      "cell_type": "markdown",
      "metadata": {
        "id": "1ezhRkoeS0RE"
      },
      "source": [
        "### 3.3.1 다차원 배열"
      ]
    },
    {
      "cell_type": "markdown",
      "metadata": {
        "id": "y_cJQ17l8bEp"
      },
      "source": [
        "- 2차원 배열은 특히 행렬matrix이라고 부르고, 배열의 가로 방향을 행row, 세로 방향을 열column이라고 한다."
      ]
    },
    {
      "cell_type": "markdown",
      "metadata": {
        "id": "WJjO6kUcS0RE"
      },
      "source": [
        "### 3.3.2 행렬의 곱"
      ]
    },
    {
      "cell_type": "markdown",
      "metadata": {
        "id": "V3ZjtUSS8_yD"
      },
      "source": [
        "- 행렬의 곱에서는 대응하는 차원의 원소 수가 같아야 한다.\r\n",
        "- $3*2$ 행렬 A와 $2*4$ 행렬 B를 곱해 $3*4$ 행렬 C를 만들 때, 행렬 C의 형상은 행렬 A의 행 수와 행렬 B의 열 수가 된다.\r\n",
        "- A가 2차원 행렬이고 B가 1차원 배열일 때도 대응하는 차원의 원소 수를 일치시킨다."
      ]
    },
    {
      "cell_type": "markdown",
      "metadata": {
        "id": "86Sp8CCtS0RF"
      },
      "source": [
        "### 3.3.3 신경망에서의 행렬 곱"
      ]
    },
    {
      "cell_type": "code",
      "metadata": {
        "colab": {
          "base_uri": "https://localhost:8080/"
        },
        "id": "TRwg2rLnBpRr",
        "outputId": "1d59c333-65e9-431f-a0ed-6cf375d0bb9d"
      },
      "source": [
        ">>> X = np.array([1, 2])\r\n",
        ">>> X.shape"
      ],
      "execution_count": 27,
      "outputs": [
        {
          "output_type": "execute_result",
          "data": {
            "text/plain": [
              "(2,)"
            ]
          },
          "metadata": {
            "tags": []
          },
          "execution_count": 27
        }
      ]
    },
    {
      "cell_type": "code",
      "metadata": {
        "colab": {
          "base_uri": "https://localhost:8080/"
        },
        "id": "G_EGAW84ByOA",
        "outputId": "99d95577-15c1-4a79-974c-aa3ce252d43c"
      },
      "source": [
        ">>> W = np.array([[1,3,5], [2,4,6]])\r\n",
        ">>> print(W)"
      ],
      "execution_count": 28,
      "outputs": [
        {
          "output_type": "stream",
          "text": [
            "[[1 3 5]\n",
            " [2 4 6]]\n"
          ],
          "name": "stdout"
        }
      ]
    },
    {
      "cell_type": "code",
      "metadata": {
        "colab": {
          "base_uri": "https://localhost:8080/"
        },
        "id": "aBJAQhhAB-ro",
        "outputId": "03994503-f647-40a0-ff37-aa0168f4e4f8"
      },
      "source": [
        ">>> W.shape"
      ],
      "execution_count": 29,
      "outputs": [
        {
          "output_type": "execute_result",
          "data": {
            "text/plain": [
              "(2, 3)"
            ]
          },
          "metadata": {
            "tags": []
          },
          "execution_count": 29
        }
      ]
    },
    {
      "cell_type": "code",
      "metadata": {
        "colab": {
          "base_uri": "https://localhost:8080/"
        },
        "id": "7HKk08mbCB_M",
        "outputId": "57d9eea6-ddfa-424b-a40d-360242785b26"
      },
      "source": [
        ">>> Y = np.dot(X, W)\r\n",
        ">>> print(Y)"
      ],
      "execution_count": 30,
      "outputs": [
        {
          "output_type": "stream",
          "text": [
            "[ 5 11 17]\n"
          ],
          "name": "stdout"
        }
      ]
    },
    {
      "cell_type": "markdown",
      "metadata": {
        "id": "f6fkveSv-FCr"
      },
      "source": [
        "- 행렬의 곱으로 한꺼번에 계산해주는 기능(np.dot(X,W))은 신경망을 구현할 때 매우 중요하다."
      ]
    },
    {
      "cell_type": "markdown",
      "metadata": {
        "id": "qt3dLw3aS0RF"
      },
      "source": [
        "## 3.4 3층 신경망 구현하기"
      ]
    },
    {
      "cell_type": "markdown",
      "metadata": {
        "id": "0gcZwNIy-YEY"
      },
      "source": [
        "- 입력층(0층)은 2개, 첫 번째 은닉층(1층)은 3개, 두 번째 은닉층(2층)은 2개, 출력층(3층)은 2개의 뉴런으로 구성된다."
      ]
    },
    {
      "cell_type": "markdown",
      "metadata": {
        "id": "dizqiolmS0RF"
      },
      "source": [
        "### 3.4.1 표기법 설명"
      ]
    },
    {
      "cell_type": "markdown",
      "metadata": {
        "id": "rW5NYVLAS0RF"
      },
      "source": [
        "### 3.4.2 각 층의 신호 전달 구현하기"
      ]
    },
    {
      "cell_type": "markdown",
      "metadata": {
        "id": "XKChOyhlS0RG"
      },
      "source": [
        "### 3.4.3 구현 정리"
      ]
    },
    {
      "cell_type": "markdown",
      "metadata": {
        "id": "WwgQgR88S0RG"
      },
      "source": [
        "## 3.5 출력층 설계하기"
      ]
    },
    {
      "cell_type": "markdown",
      "metadata": {
        "id": "HKO4SC8y_0rf"
      },
      "source": [
        "- 신경망은 분류와 회귀 모두에 이용할 수 있다.\r\n",
        " - 다만 둘 중 어떤 문제냐에 따라 출력층에서 사용하는 활성화 함수는 다르다.\r\n",
        " - 일반적으로 회귀에는 항등 함수를, 분류에는 소프트맥스 함수를 사용한다.\r\n",
        "- 기계학습 문제는 분류classification와 회귀regression로 나뉜다.\r\n",
        " - 분류: 데이터가 어느 클래스에 속하느냐는 문제 ex. 사진 속 인물의 성별 분류\r\n",
        " - 회귀: 입력 데이터에서 (연속적인) 수치를 예측하는 문제 ex. 사진 속 인물의 몸무게를 예측하는 문제 "
      ]
    },
    {
      "cell_type": "markdown",
      "metadata": {
        "id": "DXIGxkSVS0RG"
      },
      "source": [
        "### 3.5.1 항등 함수와 소프트맥스 함수 구현하기"
      ]
    },
    {
      "cell_type": "markdown",
      "metadata": {
        "id": "k1l64-I8B-vl"
      },
      "source": [
        "- 출력층의 활성화 함수로는 회귀에서는 주로 항등 함수를, 분류에서는 주로 소프트맥스 함수를 이용한다.\r\n",
        "\r\n",
        "- 항등 함수identity function: $σ()$\r\n",
        " - 입력을 그대로 출력\r\n",
        " - 출력층에서 항등 함수를 사용하면 입력 신호가 그대로 출력 신호가 된다.\r\n",
        "\r\n",
        "- 소프트맥스 함수softmax function: $y_k= \\frac{exp(a_k)}{\\sum_{i=1}^{n}exp(a_i)}$\r\n",
        " - $exp(x)$는 $e^x$을 뜻하는 지수 함수exponential function($e$는 자연상수)\r\n",
        " - $n$은 출력층의 뉴런 수\r\n",
        " - $y_k$는 그중 k번째 출력임을 의미\r\n",
        " - 소프트맥스 함수의 분자는 입력 신호 $a_k$의 지수 함수, 분모는 모든 입력 신호의 지수 함수의 합으로 구성된다.\r\n",
        " - 출력층의 각 뉴런이 모든 입력 신호에서 영향을 받는다."
      ]
    },
    {
      "cell_type": "code",
      "metadata": {
        "id": "dDR8eK_HE3fd"
      },
      "source": [
        "def softmax(a):\r\n",
        "    exp_a = np.exp(a)\r\n",
        "    sum_exp_a = np.sum(exp_a)\r\n",
        "    y = exp_a / sum_exp_a\r\n",
        "\r\n",
        "    return y"
      ],
      "execution_count": null,
      "outputs": []
    },
    {
      "cell_type": "markdown",
      "metadata": {
        "id": "TQU71tBBS0RG"
      },
      "source": [
        "### 3.5.2 소프트맥스 함수 구현 시 주의점"
      ]
    },
    {
      "cell_type": "markdown",
      "metadata": {
        "id": "uiAzTb8SFJ-O"
      },
      "source": [
        "- 컴퓨터는 수를 4바이트나 8바이트와 같이 크기가 유한한 데이터로 다루므로 표현할 수 있는 수의 범위가 한정되어 너무 큰 값은 표현할 수 없는 문제가 발생하며, 이를 오버플로overflow라 한다.\r\n",
        "- 소프트맥스 함수에서 사용하는 지수 함수는 쉽게 아주 큰 값을 리턴하므로, 큰 값끼리 나눗셈을 하면 결과 수치가 불안정해진다.\r\n",
        "- 이 문제를 해결하도록 소프트맥스 함수 구현을 개선해 보자.\r\n",
        ">  \r\n",
        "$y_k= \\frac{exp(a_k)}{\\sum_{i=1}^{n}exp(a_i)}$\r\n",
        " $=\\frac{Cexp(a_k)}{C\\sum_{i=1}^{n}exp(a_i)}$\r\n",
        " $=\\frac{exp(a_k+logC)}{\\sum_{i=1}^{n}exp(a_i+logC)}$\r\n",
        " $=\\frac{exp(a_k+C')}{\\sum_{i=1}^{n}exp(a_i+C')}$  \r\n",
        "\r\n",
        " > 소프트맥스의 지수 함수를 계산할 때 어떤 정수를 더하거나 빼도 결과는 바뀌지 않음을 알 수 있다.  \r\n",
        "\r\n",
        " > $C'$에 어떤 값을 대입해도 상관없지만, 오버플로를 막을 목적으로는 입력 신호 중 최댓값을 이용하는 것이 일반적이다.\r\n",
        "\r\n",
        " > 이를 활용하여 위에서 구현한 소프트맥스 함수를 다음과 같이 개선할 수 있다. (입력 신호 중 최댓값을 뺌)"
      ]
    },
    {
      "cell_type": "code",
      "metadata": {
        "id": "tetkogt5IMc3"
      },
      "source": [
        "def softmax(a):\r\n",
        "    c = np.max(a)\r\n",
        "    exp_a = np.exp(a-c) # 오버플로 대책\r\n",
        "    sum_exp_a = np.sum(exp_a)\r\n",
        "    y = exp_a / sum_exp_a\r\n",
        "\r\n",
        "    return y"
      ],
      "execution_count": null,
      "outputs": []
    },
    {
      "cell_type": "markdown",
      "metadata": {
        "id": "FptVGAdIS0RH"
      },
      "source": [
        "### 3.5.3 소프트맥스 함수의 특징"
      ]
    },
    {
      "cell_type": "markdown",
      "metadata": {
        "id": "rm5dWOfynENT"
      },
      "source": [
        "- 소프트맥스 함수의 출력은 0에서 1.0 사이의 실수\r\n",
        "- 소프트맥스 함수 출력의 총합은 1 -> 소프트맥스 함수의 출력은 확률로 해석할 수 있다.\r\n",
        "- 소프트맥스 함수를 적용해도 각 원소의 대소 관계는 변하지 않는다.  \r\n",
        " ∵지수 함수 $y=exp(x)$가 단조 증가 함수\r\n",
        " - 단조 증가 함수란? 정의역 원소 a, b가 $a\\leq b$일 때, $f(a)\\leq f(b)$가 성립하는 함수\r\n",
        "\r\n",
        "- 신경망을 이용한 분류에서는 일반적으로 가장 큰 출력을 내는 뉴런에 해당하는 클래스로만 인식하고, 소프트맥스 함수를 적용해도 출력이 가장 큰 뉴런의 위치는 달라지지 않기 때문에, 신경망으로 분류할 때는 출력층의 소프트맥스 함수를 생략해도 된다. 현업에서도 지수 함수 계산에 드는 자원 낭비를 줄이고자 출력층의 소프트맥스 함수는 생략하는 것이 일반적이다.\r\n",
        "\r\n",
        "- 기계학습의 문제 풀이는 학습과 추론inference의 두 단계를 거쳐 이뤄진다. 학습 단계에서 모델을 학습하고, 추론 단계에서 앞서 학습한 모델로 미지의 데이터에 대해 추론을 수행한다. <u>추론 단계에서는 출력층의 소프트맥스 함수를 생략하는 것이 일반적</u>인 반면, 신경망을 <u>학습시킬 때는 출력층에서 소프트맥스 함수를 사용</u>한다.\r\n",
        "\r\n"
      ]
    },
    {
      "cell_type": "markdown",
      "metadata": {
        "id": "4NpMIbJLS0RH"
      },
      "source": [
        "### 3.5.4 출력층의 뉴런 수 정하기"
      ]
    },
    {
      "cell_type": "markdown",
      "metadata": {
        "id": "9ycNkc0DpMp9"
      },
      "source": [
        "- 출력층의 뉴런 수는 풀려는 문제에 맞게 정한다.\r\n",
        "- 분류에서는 분류하고 싶은 클래스 수로 설정하는 것이 일반적  \r\n",
        " ex) 입력 이미지를 0부터 9 중 하나로 분류하는 문제라면, 출력층의 뉴런을 10개로 설정"
      ]
    },
    {
      "cell_type": "markdown",
      "metadata": {
        "id": "wpqC3XWKS0RH"
      },
      "source": [
        "## 3.6 손글씨 숫자 인식"
      ]
    },
    {
      "cell_type": "markdown",
      "metadata": {
        "id": "-yGYrvlQqcxt"
      },
      "source": [
        "- 머신러닝과 마찬가지로 신경망도 두 단계를 거쳐 문제를 해결한다.\r\n",
        " 1.   학습: 훈련 데이터(학습 데이터)를 사용해 가중치 매개변수를 학습 \r\n",
        " 2.   추론: 앞서 학습한 매개변수를 사용하여 입력 데이터를 분류"
      ]
    },
    {
      "cell_type": "markdown",
      "metadata": {
        "id": "2VLYa0oXS0RH"
      },
      "source": [
        "### 3.6.1 MNIST 데이터셋"
      ]
    },
    {
      "cell_type": "code",
      "metadata": {
        "colab": {
          "base_uri": "https://localhost:8080/"
        },
        "id": "7ZDWDjtcvKdq",
        "outputId": "2e3f4bcb-0990-4998-f49f-f166e7b537d3"
      },
      "source": [
        "# 바로 찾을 수 있도록 dataset폴더를 코랩 노트북 저장경로인 구글드라이브에 업로드했다\r\n",
        "# 따라서 부모 경로를 찾는 sys, os import와 pardir 함수 코딩을 생략했다\r\n",
        "from mnist import load_mnist\r\n",
        "\r\n",
        "(x_train, t_train), (x_test, t_test) = \\\r\n",
        "    load_mnist(flatten=True, normalize=False)\r\n",
        "\r\n",
        "print(x_train.shape)\r\n",
        "print(t_train.shape)\r\n",
        "print(x_test.shape)\r\n",
        "print(t_test.shape)"
      ],
      "execution_count": 9,
      "outputs": [
        {
          "output_type": "stream",
          "text": [
            "Downloading train-images-idx3-ubyte.gz ... \n",
            "Done\n",
            "Downloading train-labels-idx1-ubyte.gz ... \n",
            "Done\n",
            "Downloading t10k-images-idx3-ubyte.gz ... \n",
            "Done\n",
            "Downloading t10k-labels-idx1-ubyte.gz ... \n",
            "Done\n",
            "Converting train-images-idx3-ubyte.gz to NumPy Array ...\n",
            "Done\n",
            "Converting train-labels-idx1-ubyte.gz to NumPy Array ...\n",
            "Done\n",
            "Converting t10k-images-idx3-ubyte.gz to NumPy Array ...\n",
            "Done\n",
            "Converting t10k-labels-idx1-ubyte.gz to NumPy Array ...\n",
            "Done\n",
            "Creating pickle file ...\n",
            "Done!\n",
            "(60000, 784)\n",
            "(60000,)\n",
            "(10000, 784)\n",
            "(10000,)\n"
          ],
          "name": "stdout"
        }
      ]
    },
    {
      "cell_type": "code",
      "metadata": {
        "colab": {
          "base_uri": "https://localhost:8080/"
        },
        "id": "XL3GJoOYzHqf",
        "outputId": "f4817748-96fd-4287-ff7e-034d1a055479"
      },
      "source": [
        "import numpy as np\r\n",
        "from mnist import load_mnist\r\n",
        "from PIL import Image\r\n",
        "\r\n",
        "def img_show(img):\r\n",
        "    pil_img = Image.fromarray(np.uint8(img))\r\n",
        "    pil_img.show()\r\n",
        "\r\n",
        "(x_train, t_train), (x_test, t_test) = \\\r\n",
        "    load_mnist(flatten=True, normalize=False)\r\n",
        "\r\n",
        "img = x_train[0]\r\n",
        "label = t_train[0]\r\n",
        "print(label)\r\n",
        "\r\n",
        "print(img.shape)\r\n",
        "img = img.reshape(28, 28)\r\n",
        "print(img.shape)\r\n",
        "\r\n",
        "img_show(img)"
      ],
      "execution_count": 10,
      "outputs": [
        {
          "output_type": "stream",
          "text": [
            "5\n",
            "(784,)\n",
            "(28, 28)\n"
          ],
          "name": "stdout"
        }
      ]
    },
    {
      "cell_type": "markdown",
      "metadata": {
        "id": "6q86mUxzS0RH"
      },
      "source": [
        "### 3.6.2 신경망의 추론 처리"
      ]
    },
    {
      "cell_type": "code",
      "metadata": {
        "colab": {
          "base_uri": "https://localhost:8080/"
        },
        "id": "p74DDq9b1oSt",
        "outputId": "53b7bb80-712c-4385-a657-072fc322b580"
      },
      "source": [
        "# 아래에서 open하는 sample_weight.pkl 파일 업로드\r\n",
        "# from google.colab import files \r\n",
        "# file_uploaded = files.upload()\r\n",
        "\r\n",
        "# 피클 임포트\r\n",
        "import pickle\r\n",
        "\r\n",
        "# 3.5.2에서 만든 softmax 함수 재사용\r\n",
        "def softmax(a):\r\n",
        "    c = np.max(a)\r\n",
        "    exp_a = np.exp(a-c) # 오버플로 대책\r\n",
        "    sum_exp_a = np.sum(exp_a)\r\n",
        "    y = exp_a / sum_exp_a\r\n",
        "    return y\r\n",
        "\r\n",
        "def get_data():\r\n",
        "    (x_train, t_train), (x_test, t_test) = \\\r\n",
        "        load_mnist(normalize=True, flatten=True, one_hot_label=False)\r\n",
        "    return x_test, t_test\r\n",
        "\r\n",
        "def init_network():\r\n",
        "    with open(\"sample_weight.pkl\", 'rb') as f:\r\n",
        "        network = pickle.load(f)\r\n",
        "    return network\r\n",
        "\r\n",
        "def predict(network, x):\r\n",
        "    W1, W2, W3 = network['W1'], network['W2'], network['W3']\r\n",
        "    b1, b2, b3 = network['b1'], network['b2'], network['b3']\r\n",
        "\r\n",
        "    a1 = np.dot(x, W1) + b1\r\n",
        "    z1 = sigmoid(a1)\r\n",
        "    a2 = np.dot(z1, W2) + b2\r\n",
        "    z2 = sigmoid(a2)\r\n",
        "    a3 = np.dot(z2, W3) + b3\r\n",
        "    y = softmax(a3)\r\n",
        "    \r\n",
        "    return y\r\n",
        "\r\n",
        "x, t = get_data()\r\n",
        "network = init_network()\r\n",
        "accuracy_cnt = 0\r\n",
        "for i in range(len(x)):\r\n",
        "    y = predict(network, x[i])\r\n",
        "    p = np.argmax(y)\r\n",
        "    if p == t[i]:\r\n",
        "        accuracy_cnt += 1\r\n",
        "\r\n",
        "print(\"Accuracy:\" + str(float(accuracy_cnt) / len(x)))"
      ],
      "execution_count": 26,
      "outputs": [
        {
          "output_type": "stream",
          "text": [
            "Accuracy:0.9352\n"
          ],
          "name": "stdout"
        }
      ]
    },
    {
      "cell_type": "markdown",
      "metadata": {
        "id": "RbOkIWvDS0RI"
      },
      "source": [
        "### 3.6.3 배치 처리"
      ]
    },
    {
      "cell_type": "markdown",
      "metadata": {
        "id": "xBjjiU2w-yXN"
      },
      "source": [
        "- 배치 처리는 컴퓨터 계산 시 큰 이점이 있다.  \r\n",
        " 1) 수치 계산 라이브러리 대부분이 큰 배열을 효율적으로 처리할 수 있도록 고도로 최적화되어 있다.  \r\n",
        " 2) 커다란 신경망에서는 데이터 전송이 병복으로 작용하는 경우가 자주 있는데, 배치 처리를 함으로써 버스에 주는 부하를 줄인다.(느린 I/O를 통해 데이터를 읽는 횟수가 줄어, 빠른 CPU나 GPU로 순수 계산을 수행하는 비율이 높아짐)\r\n",
        "\r\n",
        " > 배치 처리를 수행함으로써 큰 배열로 이뤄진 계산을 하게 되는데, 컴퓨터에서는 큰 배열을 한꺼번에 계산하는 것이 분할된 작은 배열을 여러 번 계산하는 것보다 빠르다."
      ]
    },
    {
      "cell_type": "markdown",
      "metadata": {
        "id": "t6yYltNtS0RI"
      },
      "source": [
        "## 3.7 정리"
      ]
    },
    {
      "cell_type": "markdown",
      "metadata": {
        "id": "SYfVpMHjCXgw"
      },
      "source": [
        "- 신경망은 각 층의 뉴런들이 다음 층의 뉴런으로 신호를 전달한다는 점에서 퍼셉트론과 같다.\r\n",
        "- BUT 다음 뉴런으로 갈 때 신호를 변화시키는 활성화 함수에 큰 차이가 있다.\r\n",
        " - 신경망에서는 매끄럽게 변화하는 시그모이드 함수를 활성화 함수로 사용  \r\n",
        " - 퍼셉트론에서는 갑자기 변화하는 계단 함수를 활성화 함수로 사용"
      ]
    }
  ]
}