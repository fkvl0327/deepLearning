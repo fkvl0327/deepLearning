{
  "nbformat": 4,
  "nbformat_minor": 0,
  "metadata": {
    "kernelspec": {
      "display_name": "Python 3",
      "language": "python",
      "name": "python3"
    },
    "language_info": {
      "codemirror_mode": {
        "name": "ipython",
        "version": 3
      },
      "file_extension": ".py",
      "mimetype": "text/x-python",
      "name": "python",
      "nbconvert_exporter": "python",
      "pygments_lexer": "ipython3",
      "version": "3.8.3"
    },
    "toc": {
      "base_numbering": 1,
      "nav_menu": {},
      "number_sections": true,
      "sideBar": true,
      "skip_h1_title": false,
      "title_cell": "Table of Contents",
      "title_sidebar": "Contents",
      "toc_cell": false,
      "toc_position": {
        "height": "calc(100% - 180px)",
        "left": "10px",
        "top": "150px",
        "width": "279.273px"
      },
      "toc_section_display": true,
      "toc_window_display": true
    },
    "colab": {
      "name": "밑바닥부터 딥러닝 1권.ipynb",
      "provenance": [],
      "collapsed_sections": [
        "gNNPxjg3S0Ql",
        "OukWWIU_zYqQ",
        "fgTiW3r-S0Qv",
        "IJuRpTbwS0Qw",
        "Vuzu5QVdS0Qx",
        "Mcn36YWgS0Qy",
        "CSjXSF6GS0Qy",
        "ISNfNXI-S0Q1",
        "E3kRFiCgS0Q5",
        "aCEPP0XtS0Q8",
        "Z9bqR3BvS0Q9",
        "EX0XhkGIS0Q9",
        "MJdZ0wg7S0Q-",
        "QJyW120jS0Q-",
        "gcpO7fp1S0Q-",
        "F5LURTzWS0RB",
        "dizqiolmS0RF",
        "rW5NYVLAS0RF",
        "XKChOyhlS0RG"
      ],
      "toc_visible": true,
      "include_colab_link": true
    }
  },
  "cells": [
    {
      "cell_type": "markdown",
      "metadata": {
        "id": "view-in-github",
        "colab_type": "text"
      },
      "source": [
        "<a href=\"https://colab.research.google.com/github/fkvl0327/deepLearning/blob/main/%EB%B0%91%EB%B0%94%EB%8B%A5%EB%B6%80%ED%84%B0_%EB%94%A5%EB%9F%AC%EB%8B%9D_1%EA%B6%8C.ipynb\" target=\"_parent\"><img src=\"https://colab.research.google.com/assets/colab-badge.svg\" alt=\"Open In Colab\"/></a>"
      ]
    },
    {
      "cell_type": "markdown",
      "metadata": {
        "id": "gNNPxjg3S0Ql"
      },
      "source": [
        "# 2 퍼셉트론"
      ]
    },
    {
      "cell_type": "markdown",
      "metadata": {
        "id": "OukWWIU_zYqQ"
      },
      "source": [
        "## 2.1 퍼셉트론이란?"
      ]
    },
    {
      "cell_type": "markdown",
      "metadata": {
        "id": "NoNHyreizdse"
      },
      "source": [
        "- 다수의 신호를 받아 하나의 신호를 출력"
      ]
    },
    {
      "cell_type": "markdown",
      "metadata": {
        "id": "fgTiW3r-S0Qv"
      },
      "source": [
        "## 2.2 단순한 논리회로"
      ]
    },
    {
      "cell_type": "markdown",
      "metadata": {
        "id": "IJuRpTbwS0Qw"
      },
      "source": [
        "### 2.2.1 AND 게이트"
      ]
    },
    {
      "cell_type": "markdown",
      "metadata": {
        "id": "8oeSeCG7S0Qx"
      },
      "source": [
        "- x1과 x2 모두가 1일 때만 가중 신호의 총합이 주어진 임계값을 웃돈다."
      ]
    },
    {
      "cell_type": "markdown",
      "metadata": {
        "id": "Vuzu5QVdS0Qx"
      },
      "source": [
        "### 2.2.2 NAND 게이트와 OR 게이트"
      ]
    },
    {
      "cell_type": "markdown",
      "metadata": {
        "id": "8r5XNOYaS0Qx"
      },
      "source": [
        "- NAND = Not AND\n",
        "\n",
        "> AND 게이트의 출력을 뒤집은 것\n",
        "\n",
        "> x1과 x2 모두 1일 때만 0을 출력하고, 그 외에는 1을 출력\n",
        "\n",
        "- OR 게이트: 입력 신호 중 하나 이상이 1이면 출력이 1이 되는 논리 회로"
      ]
    },
    {
      "cell_type": "markdown",
      "metadata": {
        "id": "Mcn36YWgS0Qy"
      },
      "source": [
        "## 2.3 퍼셉트론 구현하기"
      ]
    },
    {
      "cell_type": "markdown",
      "metadata": {
        "id": "CSjXSF6GS0Qy"
      },
      "source": [
        "### 2.3.1 간단한 구현부터"
      ]
    },
    {
      "cell_type": "code",
      "metadata": {
        "id": "vZnanAEHS0Qy"
      },
      "source": [
        "def AND(x1, x2):\n",
        "    w1, w2, theta = 0.5, 0.5, 0.7\n",
        "    tmp = x1*w1 + x2*w2\n",
        "    if tmp <= theta:\n",
        "        return 0\n",
        "    elif tmp > theta:\n",
        "        return 1"
      ],
      "execution_count": 170,
      "outputs": []
    },
    {
      "cell_type": "code",
      "metadata": {
        "id": "s5VGR0GtS0Qz",
        "colab": {
          "base_uri": "https://localhost:8080/"
        },
        "outputId": "ea3e23ce-120b-4ea1-d1d3-6fabd795cc1d"
      },
      "source": [
        "AND(0,0)"
      ],
      "execution_count": 171,
      "outputs": [
        {
          "output_type": "execute_result",
          "data": {
            "text/plain": [
              "0"
            ]
          },
          "metadata": {
            "tags": []
          },
          "execution_count": 171
        }
      ]
    },
    {
      "cell_type": "code",
      "metadata": {
        "id": "4S3VlMRkS0Q0",
        "colab": {
          "base_uri": "https://localhost:8080/"
        },
        "outputId": "8ba40af8-6a60-4c3b-e3dc-8c00ba83adc4"
      },
      "source": [
        "AND(1,0)"
      ],
      "execution_count": 172,
      "outputs": [
        {
          "output_type": "execute_result",
          "data": {
            "text/plain": [
              "0"
            ]
          },
          "metadata": {
            "tags": []
          },
          "execution_count": 172
        }
      ]
    },
    {
      "cell_type": "code",
      "metadata": {
        "id": "upD95NLLS0Q0",
        "colab": {
          "base_uri": "https://localhost:8080/"
        },
        "outputId": "c762859f-0cbd-4fcc-b684-a53c77f7ab27"
      },
      "source": [
        "AND(0,1)"
      ],
      "execution_count": 173,
      "outputs": [
        {
          "output_type": "execute_result",
          "data": {
            "text/plain": [
              "0"
            ]
          },
          "metadata": {
            "tags": []
          },
          "execution_count": 173
        }
      ]
    },
    {
      "cell_type": "code",
      "metadata": {
        "id": "RNazFDdES0Q1",
        "colab": {
          "base_uri": "https://localhost:8080/"
        },
        "outputId": "19d7b77e-086f-401c-ae26-dac1019f10cd"
      },
      "source": [
        "AND(1,1)"
      ],
      "execution_count": 174,
      "outputs": [
        {
          "output_type": "execute_result",
          "data": {
            "text/plain": [
              "1"
            ]
          },
          "metadata": {
            "tags": []
          },
          "execution_count": 174
        }
      ]
    },
    {
      "cell_type": "markdown",
      "metadata": {
        "id": "ISNfNXI-S0Q1"
      },
      "source": [
        "### 2.3.2 가중치와 편향 도입"
      ]
    },
    {
      "cell_type": "markdown",
      "metadata": {
        "id": "l2VCpqMqS0Q1"
      },
      "source": [
        "- -theta를 편향 b로 치환"
      ]
    },
    {
      "cell_type": "code",
      "metadata": {
        "id": "ROFh0ZroS0Q2",
        "colab": {
          "base_uri": "https://localhost:8080/"
        },
        "outputId": "49189ccd-499a-4c7c-874a-9b69fd8395d7"
      },
      "source": [
        "import numpy as np\n",
        "x = np.array([0, 1]) # 입력\n",
        "w = np.array([0.5, 0.5]) # 가중치\n",
        "b = -0.7 # 편향\n",
        "w*x"
      ],
      "execution_count": 175,
      "outputs": [
        {
          "output_type": "execute_result",
          "data": {
            "text/plain": [
              "array([0. , 0.5])"
            ]
          },
          "metadata": {
            "tags": []
          },
          "execution_count": 175
        }
      ]
    },
    {
      "cell_type": "code",
      "metadata": {
        "id": "RAbepX5XS0Q2",
        "colab": {
          "base_uri": "https://localhost:8080/"
        },
        "outputId": "553a0330-9ac1-41c6-a748-2dd4cac8b8c8"
      },
      "source": [
        "np.sum(w*x)"
      ],
      "execution_count": 176,
      "outputs": [
        {
          "output_type": "execute_result",
          "data": {
            "text/plain": [
              "0.5"
            ]
          },
          "metadata": {
            "tags": []
          },
          "execution_count": 176
        }
      ]
    },
    {
      "cell_type": "code",
      "metadata": {
        "id": "cB8_qMHtS0Q5",
        "colab": {
          "base_uri": "https://localhost:8080/"
        },
        "outputId": "049dafd0-e570-4ba0-9cf7-9a3ea4bc4397"
      },
      "source": [
        "np.sum(w*x)+b"
      ],
      "execution_count": 177,
      "outputs": [
        {
          "output_type": "execute_result",
          "data": {
            "text/plain": [
              "-0.19999999999999996"
            ]
          },
          "metadata": {
            "tags": []
          },
          "execution_count": 177
        }
      ]
    },
    {
      "cell_type": "markdown",
      "metadata": {
        "id": "E3kRFiCgS0Q5"
      },
      "source": [
        "### 2.3.3 가중치와 편향 구현하기"
      ]
    },
    {
      "cell_type": "markdown",
      "metadata": {
        "id": "PX1yzcUaS0Q6"
      },
      "source": [
        "- AND 게이트"
      ]
    },
    {
      "cell_type": "code",
      "metadata": {
        "id": "XFaoLxQZS0Q6"
      },
      "source": [
        "def AND(x1, x2):\n",
        "    x = np.array([x1, x2])\n",
        "    w = np.array([0.5, 0.5])\n",
        "    b = -0.7\n",
        "    tmp = np.sum(w*x)+b\n",
        "    if tmp <=0:\n",
        "        return 0\n",
        "    else:\n",
        "        return 1"
      ],
      "execution_count": 178,
      "outputs": []
    },
    {
      "cell_type": "markdown",
      "metadata": {
        "id": "jOGldVsYS0Q7"
      },
      "source": [
        "- NAND 게이트"
      ]
    },
    {
      "cell_type": "code",
      "metadata": {
        "id": "_iyHFCtgS0Q7"
      },
      "source": [
        "def NAND(x1, x2):\n",
        "    x = np.array([x1, x2])\n",
        "    w = np.array([-0.5, -0.5])\n",
        "    b = 0.7\n",
        "    tmp = np.sum(w*x)+b\n",
        "    if tmp <= 0:\n",
        "        return 0\n",
        "    else:\n",
        "        return 1"
      ],
      "execution_count": 179,
      "outputs": []
    },
    {
      "cell_type": "markdown",
      "metadata": {
        "id": "WDGWepngS0Q8"
      },
      "source": [
        "- OR 게이트"
      ]
    },
    {
      "cell_type": "code",
      "metadata": {
        "id": "9Lknug9US0Q8"
      },
      "source": [
        "def OR(x1, x2):\n",
        "    x = np.array([x1, x2])\n",
        "    w = np.array([0.5, 0.5])\n",
        "    b = -0.2\n",
        "    tmp = np.sum(w*x)+b\n",
        "    if tmp <=0:\n",
        "        return 0\n",
        "    else:\n",
        "        return 1"
      ],
      "execution_count": 180,
      "outputs": []
    },
    {
      "cell_type": "markdown",
      "metadata": {
        "id": "aCEPP0XtS0Q8"
      },
      "source": [
        "## 2.4 퍼셉트론의 한계"
      ]
    },
    {
      "cell_type": "markdown",
      "metadata": {
        "id": "Z9bqR3BvS0Q9"
      },
      "source": [
        "### 2.4.1 XOR 게이트"
      ]
    },
    {
      "cell_type": "markdown",
      "metadata": {
        "id": "Mk3UBUofS0Q9"
      },
      "source": [
        "- 배타적 논리합: x1과 x2 중 한쪽이 1일 때만 1을 출력"
      ]
    },
    {
      "cell_type": "markdown",
      "metadata": {
        "id": "EX0XhkGIS0Q9"
      },
      "source": [
        "### 2.4.2 선형과 비선형"
      ]
    },
    {
      "cell_type": "markdown",
      "metadata": {
        "id": "FSdI5UErS0Q9"
      },
      "source": [
        "- 단순 퍼셉트론은 직선 하나로 나눈 영역만 표현할 수 있다는 한계가 있다.\n",
        "- 곡선의 영역을 비선형 영역, 직선의 영역을 선형 영역이라고 한다."
      ]
    },
    {
      "cell_type": "markdown",
      "metadata": {
        "id": "MJdZ0wg7S0Q-"
      },
      "source": [
        "## 2.5 다층 퍼셉트론"
      ]
    },
    {
      "cell_type": "markdown",
      "metadata": {
        "id": "QJyW120jS0Q-"
      },
      "source": [
        "### 2.5.1 기존 게이트 조합하기"
      ]
    },
    {
      "cell_type": "markdown",
      "metadata": {
        "id": "edxhjsv4S0Q-"
      },
      "source": [
        "- x1과 x2가 입력 신호, y가 출력 신호\n",
        "- x1과 x2는 NAND와 OR 게이트의 입력, NAND와 OR의 출력이 AND 게이트의 입력으로 이어진다."
      ]
    },
    {
      "cell_type": "markdown",
      "metadata": {
        "id": "gcpO7fp1S0Q-"
      },
      "source": [
        "### 2.5.2 XOR 게이트 구현하기"
      ]
    },
    {
      "cell_type": "code",
      "metadata": {
        "id": "dMLxs1XqS0Q_"
      },
      "source": [
        "def XOR(x1, x2):\n",
        "    s1 = NAND(x1, x2)\n",
        "    s2 = OR(x1, x2)\n",
        "    y = AND(s1, s2)\n",
        "    return y"
      ],
      "execution_count": 181,
      "outputs": []
    },
    {
      "cell_type": "code",
      "metadata": {
        "id": "xgCfjM3GS0Q_",
        "colab": {
          "base_uri": "https://localhost:8080/"
        },
        "outputId": "37593ed6-b095-48ee-ab63-60b894d9e73e"
      },
      "source": [
        "XOR(0,0)"
      ],
      "execution_count": 182,
      "outputs": [
        {
          "output_type": "execute_result",
          "data": {
            "text/plain": [
              "0"
            ]
          },
          "metadata": {
            "tags": []
          },
          "execution_count": 182
        }
      ]
    },
    {
      "cell_type": "code",
      "metadata": {
        "id": "K5TxLOOgS0Q_",
        "colab": {
          "base_uri": "https://localhost:8080/"
        },
        "outputId": "92e7a179-6fd9-406c-c6e7-ee2e1ffaec1d"
      },
      "source": [
        "XOR(1,0)"
      ],
      "execution_count": 183,
      "outputs": [
        {
          "output_type": "execute_result",
          "data": {
            "text/plain": [
              "1"
            ]
          },
          "metadata": {
            "tags": []
          },
          "execution_count": 183
        }
      ]
    },
    {
      "cell_type": "code",
      "metadata": {
        "id": "n5wY9MnKS0RA",
        "colab": {
          "base_uri": "https://localhost:8080/"
        },
        "outputId": "f58afee6-0b79-43f8-efe6-45778f07a8c5"
      },
      "source": [
        "XOR(0,1)"
      ],
      "execution_count": 184,
      "outputs": [
        {
          "output_type": "execute_result",
          "data": {
            "text/plain": [
              "1"
            ]
          },
          "metadata": {
            "tags": []
          },
          "execution_count": 184
        }
      ]
    },
    {
      "cell_type": "code",
      "metadata": {
        "id": "4ThJowYrS0RA",
        "colab": {
          "base_uri": "https://localhost:8080/"
        },
        "outputId": "93c69171-5181-45f4-875d-0108425ab64b"
      },
      "source": [
        "XOR(1,1)"
      ],
      "execution_count": 185,
      "outputs": [
        {
          "output_type": "execute_result",
          "data": {
            "text/plain": [
              "0"
            ]
          },
          "metadata": {
            "tags": []
          },
          "execution_count": 185
        }
      ]
    },
    {
      "cell_type": "markdown",
      "metadata": {
        "id": "zrQv0qx2S0RB"
      },
      "source": [
        "# 3 신경망"
      ]
    },
    {
      "cell_type": "markdown",
      "metadata": {
        "id": "cY-RrFFMS0RB"
      },
      "source": [
        "- 퍼셉트론\n",
        "\n",
        "> GOOD: 복잡한 함수도 표현할 수 있다\n",
        "\n",
        "> BAD: 가중치를 설정하는 작업(원하는 결과를 출력하도록 가중치 값을 적절히 정하는 작업)은 사람이 수동으로 한다 = AND, OR 게이트의 진리표를 보면서 인간이 적절한 가중치 값을 결정\n",
        "\n",
        "- 신경망이 퍼셉트론의 한계를 개선한다\n",
        "\n",
        "> 신경망의 중요한 성질: 가중치 매개변수의 적절한 값을 데이터로부터 자동으로 학습하는 능력\n",
        "\n",
        "- 이번 장의 내용\n",
        "\n",
        "> 신경망 개요 설명\n",
        "\n",
        "> 신경망이 입력 데이터가 무엇인지 식별하는 처리과정을 살펴봄\n",
        "\n",
        "\n",
        "* 데이터에서 가중치 매개변수 값을 학습하는 방법은 다음 장에서"
      ]
    },
    {
      "cell_type": "markdown",
      "metadata": {
        "id": "-SwICaw5S0RB"
      },
      "source": [
        "## 3.1 퍼셉트론에서 신경망으로"
      ]
    },
    {
      "cell_type": "markdown",
      "metadata": {
        "id": "F5LURTzWS0RB"
      },
      "source": [
        "### 3.1.1 신경망의 예"
      ]
    },
    {
      "cell_type": "markdown",
      "metadata": {
        "id": "dAp7tnBYuuwy"
      },
      "source": [
        "- 입력층 > 은닉층 > 출력층"
      ]
    },
    {
      "cell_type": "markdown",
      "metadata": {
        "id": "w1gcPJQKS0RC"
      },
      "source": [
        "### 3.1.2 퍼셉트론 복습"
      ]
    },
    {
      "cell_type": "markdown",
      "metadata": {
        "id": "wa_PEvr7ymo4"
      },
      "source": [
        "- $x_1$과 $x_2$라는 두 신호를 입력받아 y를 출력하는 퍼셉트론\r\n",
        "\r\n",
        "> $y=0(b+w_1x_1+w_2x_2\\leq0)$  \r\n",
        "> $y=1(b+w_1x_1+w_2x_2>0)$\r\n",
        "\r\n",
        "> b는 편향을 나타내는 매개변수, 뉴런이 얼마나 쉽게 활성화되는지를 제어\r\n",
        "\r\n",
        "> $w_1$과 $w_2$는 각 신호의 가중치를 나타내는 매개변수, 각 신호의 영향력을 제어\r\n",
        "\r\n",
        "- 더 간결한 형태로 다시 작성해 보면\r\n",
        "\r\n",
        "> $y=h(b+w_1x_1+w_2x_2)$\r\n",
        "\r\n",
        "> $h(x) = 0(x\\leq0)$ or $1(x>0)$ "
      ]
    },
    {
      "cell_type": "markdown",
      "metadata": {
        "id": "3ZpeHo4rS0RC"
      },
      "source": [
        "### 3.1.3 활성화 함수의 등장"
      ]
    },
    {
      "cell_type": "markdown",
      "metadata": {
        "id": "5KZd1Mz_spQY"
      },
      "source": [
        "- $h(x)$와 같이 입력 신호의 총합을 출력 신호로 변환하는 함수를 일반적으로 활성화 함수(activation function)라 한다.\r\n",
        "- 활성화 함수는 입력 신호의 총합이 활성화를 일으키는지 정하는 역할"
      ]
    },
    {
      "cell_type": "markdown",
      "metadata": {
        "id": "3tg5OnOpS0RC"
      },
      "source": [
        "## 3.2 활성화 함수"
      ]
    },
    {
      "cell_type": "markdown",
      "metadata": {
        "id": "EXE-8tYaS0RC"
      },
      "source": [
        "### 3.2.1 시그모이드 함수(sigmoid function)"
      ]
    },
    {
      "cell_type": "markdown",
      "metadata": {
        "id": "-JpYzUYQulpO"
      },
      "source": [
        "$h(x) = \\frac{1}{1+exp(-x)}$\r\n",
        "\r\n",
        "- exp$(-x)$는 $e^{-x}$를 뜻함\r\n",
        "- $e$는 자연상수로 2.7182...의 값을 갖는 실수\r\n",
        "- 예를 들어 시그모이드 함수에 1.0과 2.0을 입력하면 $h(1.0)=0.731...$, $h(2.0)=0.880...$처럼 특정 값을 출력한다."
      ]
    },
    {
      "cell_type": "markdown",
      "metadata": {
        "id": "w9OwIFjHS0RD"
      },
      "source": [
        "### 3.2.2 계단 함수 구현하기"
      ]
    },
    {
      "cell_type": "markdown",
      "metadata": {
        "id": "NKoYMVYpxRqo"
      },
      "source": [
        "- 계단 함수는 입력이 0을 넘으면 1을 출력하고, 그 외에는 0을 출력하는 함수"
      ]
    },
    {
      "cell_type": "code",
      "metadata": {
        "id": "hyhp3D_hxBx9"
      },
      "source": [
        "def step_function(x):\r\n",
        "    if x>0:\r\n",
        "        return 1\r\n",
        "    else:\r\n",
        "        return 0"
      ],
      "execution_count": 186,
      "outputs": []
    },
    {
      "cell_type": "markdown",
      "metadata": {
        "id": "uLUtoY5xxcMX"
      },
      "source": [
        "- 인수 x는 실수(부동소수점)만 받아들이므로, 넘파이 배열을 파라미터로 넣을 수는 없다.\r\n",
        "- 넘파이 배열도 지원하도록 아래와 같이 수정한다."
      ]
    },
    {
      "cell_type": "code",
      "metadata": {
        "id": "TJg2kT-IxvRu"
      },
      "source": [
        "def step_function(x):\r\n",
        "    y=x>0\r\n",
        "    return y.astype(np.int)"
      ],
      "execution_count": 187,
      "outputs": []
    },
    {
      "cell_type": "markdown",
      "metadata": {
        "id": "BP_tcrSlS0RD"
      },
      "source": [
        "### 3.2.3 계단 함수의 그래프"
      ]
    },
    {
      "cell_type": "code",
      "metadata": {
        "colab": {
          "base_uri": "https://localhost:8080/",
          "height": 265
        },
        "id": "iGflZ-d3yTdy",
        "outputId": "f5d2b226-c774-4a71-b6be-e8b6b9cb8c12"
      },
      "source": [
        "import numpy as np\r\n",
        "import matplotlib.pylab as plt\r\n",
        "\r\n",
        "def step_function(x):\r\n",
        "    return np.array(x>0, dtype=np.int)\r\n",
        "\r\n",
        "x=np.arange(-5.0, 5.0, 0.1)\r\n",
        "y=step_function(x)\r\n",
        "plt.plot(x,y)\r\n",
        "plt.ylim(-0.1, 1.1)\r\n",
        "plt.show()"
      ],
      "execution_count": 188,
      "outputs": [
        {
          "output_type": "display_data",
          "data": {
            "image/png": "[encoded data removed]",
            "text/plain": [
              "<Figure size 432x288 with 1 Axes>"
            ]
          },
          "metadata": {
            "tags": [],
            "needs_background": "light"
          }
        }
      ]
    },
    {
      "cell_type": "markdown",
      "metadata": {
        "id": "eFB-m129S0RD"
      },
      "source": [
        "### 3.2.4 시그모이드 함수 구현하기"
      ]
    },
    {
      "cell_type": "markdown",
      "metadata": {
        "id": "mZS3lUsTzoZh"
      },
      "source": [
        "- 인수 $x$가 넘파이 배열이어도 올바른 결과가 나온다."
      ]
    },
    {
      "cell_type": "code",
      "metadata": {
        "colab": {
          "base_uri": "https://localhost:8080/"
        },
        "id": "vYaF4Xdzy397",
        "outputId": "26ad20ad-18bf-4b9a-e2d7-68b75b1534b3"
      },
      "source": [
        "def sigmoid(x):\r\n",
        "    return 1 / (1+np.exp(-x))\r\n",
        "\r\n",
        "x = np.array([-1.0, 1.0, 2.0])\r\n",
        "sigmoid(x)"
      ],
      "execution_count": 189,
      "outputs": [
        {
          "output_type": "execute_result",
          "data": {
            "text/plain": [
              "array([0.26894142, 0.73105858, 0.88079708])"
            ]
          },
          "metadata": {
            "tags": []
          },
          "execution_count": 189
        }
      ]
    },
    {
      "cell_type": "markdown",
      "metadata": {
        "id": "07B4KaCCz0mi"
      },
      "source": [
        "- 시그모이드 함수를 그래프로 그려보자."
      ]
    },
    {
      "cell_type": "code",
      "metadata": {
        "colab": {
          "base_uri": "https://localhost:8080/",
          "height": 265
        },
        "id": "FCGjdj7Jz4qi",
        "outputId": "e698dfbd-9265-4c8e-8074-373647267dd9"
      },
      "source": [
        "x = np.arange(-5.0, 5.0, 0.1)\r\n",
        "y = sigmoid(x)\r\n",
        "plt.plot(x, y)\r\n",
        "plt.ylim(-0.1, 1.1)\r\n",
        "plt.show()"
      ],
      "execution_count": 190,
      "outputs": [
        {
          "output_type": "display_data",
          "data": {
            "image/png": "[encoded data removed]",
            "text/plain": [
              "<Figure size 432x288 with 1 Axes>"
            ]
          },
          "metadata": {
            "tags": [],
            "needs_background": "light"
          }
        }
      ]
    },
    {
      "cell_type": "markdown",
      "metadata": {
        "id": "Uc0-6p_x0XNl"
      },
      "source": [
        "- 시그모이드는 S자 모양"
      ]
    },
    {
      "cell_type": "markdown",
      "metadata": {
        "id": "OOqbUDvSS0RD"
      },
      "source": [
        "### 3.2.5 시그모이드 함수와 계단 함수 비교"
      ]
    },
    {
      "cell_type": "markdown",
      "metadata": {
        "id": "YL7sZAGw0vKc"
      },
      "source": [
        "- 시그모이드\r\n",
        " - 부드러운 곡선  \r\n",
        " - 입력에 따라 출력이 연속적으로 변화  \r\n",
        " - 실수를 리턴\r\n",
        "\r\n",
        "- 계단 함수\r\n",
        " - 0을 경계로 출력이 갑자기 변화  \r\n",
        " - 0과 1 중 하나의 값만 리턴\r\n",
        "\r\n",
        "- 시그모이드 함수의 '매끈함'이 신경망 학습에서 아주 중요한 역할"
      ]
    },
    {
      "cell_type": "markdown",
      "metadata": {
        "id": "LSCBMEG0S0RE"
      },
      "source": [
        "### 3.2.6 비선형 함수"
      ]
    },
    {
      "cell_type": "markdown",
      "metadata": {
        "id": "2UNeiE812ckU"
      },
      "source": [
        "- 선형 함수\r\n",
        " - $f(x)=ax+b$\r\n",
        " - 출력이 입력의 상수배만큼 변하는 함수\r\n",
        " - 그래프는 곧은 1개의 직선\r\n",
        "\r\n",
        "- 비선형 함수\r\n",
        " - 선형이 아닌 함수\r\n",
        " - 직선 1개로는 그릴 수 없는 함수\r\n",
        " - 시그모이드 함수와 계단 함수는 모두 비선형 함수\r\n",
        "\r\n",
        "- 신경망에서는 활성화 함수로 비선형 함수를 사용해야 한다.  \r\n",
        " = 선형 함수를 사용해서는 안 된다.\r\n",
        "  ∵ 선형 함수를 이용하면 신경망의 층을 깊게 하는 의미가 없다.\r\n",
        "\r\n",
        "- 선형 함수의 문제  \r\n",
        " = 층을 아무리 깊게 해도 '은닉층이 없는 네트워크'로도 똑같은 기능을 할 수 있다.  \r\n",
        " = 층을 쌓는 혜택을 얻을 수 없다."
      ]
    },
    {
      "cell_type": "markdown",
      "metadata": {
        "id": "FgcgJriFS0RE"
      },
      "source": [
        "### 3.2.7 ReLU 함수"
      ]
    },
    {
      "cell_type": "markdown",
      "metadata": {
        "id": "DojiRGlG6-zK"
      },
      "source": [
        "- Rectified Linear Unit, 렐루\r\n",
        "- 입력이 0을 넘으면 그 입력을 그대로 출력하고, 0 이하이면 0을 출력하는 함수\r\n",
        "- $h(x) = x(x>0)$ or $h(x) = 0(x\\leq0)$"
      ]
    },
    {
      "cell_type": "code",
      "metadata": {
        "id": "ta73QoxE7q9B"
      },
      "source": [
        "def relu(x):\r\n",
        "    return np.maximum(0, x)"
      ],
      "execution_count": 191,
      "outputs": []
    },
    {
      "cell_type": "markdown",
      "metadata": {
        "id": "kDwe--iN722o"
      },
      "source": [
        "- 책 후반부에서는 주로 ReLU 함수를 사용한다."
      ]
    },
    {
      "cell_type": "markdown",
      "metadata": {
        "id": "zaISa70LS0RE"
      },
      "source": [
        "## 3.3 다차원 배열의 계산"
      ]
    },
    {
      "cell_type": "markdown",
      "metadata": {
        "id": "1ezhRkoeS0RE"
      },
      "source": [
        "### 3.3.1 다차원 배열"
      ]
    },
    {
      "cell_type": "markdown",
      "metadata": {
        "id": "y_cJQ17l8bEp"
      },
      "source": [
        "- 2차원 배열은 특히 행렬matrix이라고 부르고, 배열의 가로 방향을 행row, 세로 방향을 열column이라고 한다."
      ]
    },
    {
      "cell_type": "markdown",
      "metadata": {
        "id": "WJjO6kUcS0RE"
      },
      "source": [
        "### 3.3.2 행렬의 곱"
      ]
    },
    {
      "cell_type": "markdown",
      "metadata": {
        "id": "V3ZjtUSS8_yD"
      },
      "source": [
        "- 행렬의 곱에서는 대응하는 차원의 원소 수가 같아야 한다.\r\n",
        "- $3*2$ 행렬 A와 $2*4$ 행렬 B를 곱해 $3*4$ 행렬 C를 만들 때, 행렬 C의 형상은 행렬 A의 행 수와 행렬 B의 열 수가 된다.\r\n",
        "- A가 2차원 행렬이고 B가 1차원 배열일 때도 대응하는 차원의 원소 수를 일치시킨다."
      ]
    },
    {
      "cell_type": "markdown",
      "metadata": {
        "id": "86Sp8CCtS0RF"
      },
      "source": [
        "### 3.3.3 신경망에서의 행렬 곱"
      ]
    },
    {
      "cell_type": "code",
      "metadata": {
        "colab": {
          "base_uri": "https://localhost:8080/"
        },
        "id": "TRwg2rLnBpRr",
        "outputId": "fa4931e6-873e-4518-fdc9-2ad368ed7e63"
      },
      "source": [
        ">>> X = np.array([1, 2])\r\n",
        ">>> X.shape"
      ],
      "execution_count": 192,
      "outputs": [
        {
          "output_type": "execute_result",
          "data": {
            "text/plain": [
              "(2,)"
            ]
          },
          "metadata": {
            "tags": []
          },
          "execution_count": 192
        }
      ]
    },
    {
      "cell_type": "code",
      "metadata": {
        "colab": {
          "base_uri": "https://localhost:8080/"
        },
        "id": "G_EGAW84ByOA",
        "outputId": "16d2eb75-6109-4c32-bba7-8ae67013e823"
      },
      "source": [
        ">>> W = np.array([[1,3,5], [2,4,6]])\r\n",
        ">>> print(W)"
      ],
      "execution_count": 193,
      "outputs": [
        {
          "output_type": "stream",
          "text": [
            "[[1 3 5]\n",
            " [2 4 6]]\n"
          ],
          "name": "stdout"
        }
      ]
    },
    {
      "cell_type": "code",
      "metadata": {
        "colab": {
          "base_uri": "https://localhost:8080/"
        },
        "id": "aBJAQhhAB-ro",
        "outputId": "8c45589f-42b0-4938-cc92-d4339b6448b0"
      },
      "source": [
        ">>> W.shape"
      ],
      "execution_count": 194,
      "outputs": [
        {
          "output_type": "execute_result",
          "data": {
            "text/plain": [
              "(2, 3)"
            ]
          },
          "metadata": {
            "tags": []
          },
          "execution_count": 194
        }
      ]
    },
    {
      "cell_type": "code",
      "metadata": {
        "colab": {
          "base_uri": "https://localhost:8080/"
        },
        "id": "7HKk08mbCB_M",
        "outputId": "a56cb17f-3d84-4b3b-824b-da9c55e743df"
      },
      "source": [
        ">>> Y = np.dot(X, W)\r\n",
        ">>> print(Y)"
      ],
      "execution_count": 195,
      "outputs": [
        {
          "output_type": "stream",
          "text": [
            "[ 5 11 17]\n"
          ],
          "name": "stdout"
        }
      ]
    },
    {
      "cell_type": "markdown",
      "metadata": {
        "id": "f6fkveSv-FCr"
      },
      "source": [
        "- 행렬의 곱으로 한꺼번에 계산해주는 기능(np.dot(X,W))은 신경망을 구현할 때 매우 중요하다."
      ]
    },
    {
      "cell_type": "markdown",
      "metadata": {
        "id": "qt3dLw3aS0RF"
      },
      "source": [
        "## 3.4 3층 신경망 구현하기"
      ]
    },
    {
      "cell_type": "markdown",
      "metadata": {
        "id": "0gcZwNIy-YEY"
      },
      "source": [
        "- 입력층(0층)은 2개, 첫 번째 은닉층(1층)은 3개, 두 번째 은닉층(2층)은 2개, 출력층(3층)은 2개의 뉴런으로 구성된다."
      ]
    },
    {
      "cell_type": "markdown",
      "metadata": {
        "id": "dizqiolmS0RF"
      },
      "source": [
        "### 3.4.1 표기법 설명"
      ]
    },
    {
      "cell_type": "markdown",
      "metadata": {
        "id": "rW5NYVLAS0RF"
      },
      "source": [
        "### 3.4.2 각 층의 신호 전달 구현하기"
      ]
    },
    {
      "cell_type": "markdown",
      "metadata": {
        "id": "XKChOyhlS0RG"
      },
      "source": [
        "### 3.4.3 구현 정리"
      ]
    },
    {
      "cell_type": "markdown",
      "metadata": {
        "id": "WwgQgR88S0RG"
      },
      "source": [
        "## 3.5 출력층 설계하기"
      ]
    },
    {
      "cell_type": "markdown",
      "metadata": {
        "id": "HKO4SC8y_0rf"
      },
      "source": [
        "- 신경망은 분류와 회귀 모두에 이용할 수 있다.\r\n",
        " - 다만 둘 중 어떤 문제냐에 따라 출력층에서 사용하는 활성화 함수는 다르다.\r\n",
        " - 일반적으로 회귀에는 항등 함수를, 분류에는 소프트맥스 함수를 사용한다.\r\n",
        "- 기계학습 문제는 분류classification와 회귀regression로 나뉜다.\r\n",
        " - 분류: 데이터가 어느 클래스에 속하느냐는 문제 ex. 사진 속 인물의 성별 분류\r\n",
        " - 회귀: 입력 데이터에서 (연속적인) 수치를 예측하는 문제 ex. 사진 속 인물의 몸무게를 예측하는 문제 "
      ]
    },
    {
      "cell_type": "markdown",
      "metadata": {
        "id": "DXIGxkSVS0RG"
      },
      "source": [
        "### 3.5.1 항등 함수와 소프트맥스 함수 구현하기"
      ]
    },
    {
      "cell_type": "markdown",
      "metadata": {
        "id": "k1l64-I8B-vl"
      },
      "source": [
        "- 출력층의 활성화 함수로는 회귀에서는 주로 항등 함수를, 분류에서는 주로 소프트맥스 함수를 이용한다.\r\n",
        "\r\n",
        "- 항등 함수identity function: $σ()$\r\n",
        " - 입력을 그대로 출력\r\n",
        " - 출력층에서 항등 함수를 사용하면 입력 신호가 그대로 출력 신호가 된다.\r\n",
        "\r\n",
        "- 소프트맥스 함수softmax function: $y_k= \\frac{exp(a_k)}{\\sum_{i=1}^{n}exp(a_i)}$\r\n",
        " - $exp(x)$는 $e^x$을 뜻하는 지수 함수exponential function($e$는 자연상수)\r\n",
        " - $n$은 출력층의 뉴런 수\r\n",
        " - $y_k$는 그중 k번째 출력임을 의미\r\n",
        " - 소프트맥스 함수의 분자는 입력 신호 $a_k$의 지수 함수, 분모는 모든 입력 신호의 지수 함수의 합으로 구성된다.\r\n",
        " - 출력층의 각 뉴런이 모든 입력 신호에서 영향을 받는다."
      ]
    },
    {
      "cell_type": "code",
      "metadata": {
        "id": "dDR8eK_HE3fd"
      },
      "source": [
        "def softmax(a):\r\n",
        "    exp_a = np.exp(a)\r\n",
        "    sum_exp_a = np.sum(exp_a)\r\n",
        "    y = exp_a / sum_exp_a\r\n",
        "\r\n",
        "    return y"
      ],
      "execution_count": 196,
      "outputs": []
    },
    {
      "cell_type": "markdown",
      "metadata": {
        "id": "TQU71tBBS0RG"
      },
      "source": [
        "### 3.5.2 소프트맥스 함수 구현 시 주의점"
      ]
    },
    {
      "cell_type": "markdown",
      "metadata": {
        "id": "uiAzTb8SFJ-O"
      },
      "source": [
        "- 컴퓨터는 수를 4바이트나 8바이트와 같이 크기가 유한한 데이터로 다루므로 표현할 수 있는 수의 범위가 한정되어 너무 큰 값은 표현할 수 없는 문제가 발생하며, 이를 오버플로overflow라 한다.\r\n",
        "- 소프트맥스 함수에서 사용하는 지수 함수는 쉽게 아주 큰 값을 리턴하므로, 큰 값끼리 나눗셈을 하면 결과 수치가 불안정해진다.\r\n",
        "- 이 문제를 해결하도록 소프트맥스 함수 구현을 개선해 보자.\r\n",
        ">  \r\n",
        "$y_k= \\frac{exp(a_k)}{\\sum_{i=1}^{n}exp(a_i)}$\r\n",
        " $=\\frac{Cexp(a_k)}{C\\sum_{i=1}^{n}exp(a_i)}$\r\n",
        " $=\\frac{exp(a_k+logC)}{\\sum_{i=1}^{n}exp(a_i+logC)}$\r\n",
        " $=\\frac{exp(a_k+C')}{\\sum_{i=1}^{n}exp(a_i+C')}$  \r\n",
        "\r\n",
        " > 소프트맥스의 지수 함수를 계산할 때 어떤 정수를 더하거나 빼도 결과는 바뀌지 않음을 알 수 있다.  \r\n",
        "\r\n",
        " > $C'$에 어떤 값을 대입해도 상관없지만, 오버플로를 막을 목적으로는 입력 신호 중 최댓값을 이용하는 것이 일반적이다.\r\n",
        "\r\n",
        " > 이를 활용하여 위에서 구현한 소프트맥스 함수를 다음과 같이 개선할 수 있다. (입력 신호 중 최댓값을 뺌)"
      ]
    },
    {
      "cell_type": "code",
      "metadata": {
        "id": "tetkogt5IMc3"
      },
      "source": [
        "def softmax(a):\r\n",
        "    c = np.max(a)\r\n",
        "    exp_a = np.exp(a-c) # 오버플로 대책\r\n",
        "    sum_exp_a = np.sum(exp_a)\r\n",
        "    y = exp_a / sum_exp_a\r\n",
        "\r\n",
        "    return y"
      ],
      "execution_count": 197,
      "outputs": []
    },
    {
      "cell_type": "markdown",
      "metadata": {
        "id": "FptVGAdIS0RH"
      },
      "source": [
        "### 3.5.3 소프트맥스 함수의 특징"
      ]
    },
    {
      "cell_type": "markdown",
      "metadata": {
        "id": "rm5dWOfynENT"
      },
      "source": [
        "- 소프트맥스 함수의 출력은 0에서 1.0 사이의 실수\r\n",
        "- 소프트맥스 함수 출력의 총합은 1 -> 소프트맥스 함수의 출력은 확률로 해석할 수 있다.\r\n",
        "- 소프트맥스 함수를 적용해도 각 원소의 대소 관계는 변하지 않는다.  \r\n",
        " ∵지수 함수 $y=exp(x)$가 단조 증가 함수\r\n",
        " - 단조 증가 함수란? 정의역 원소 a, b가 $a\\leq b$일 때, $f(a)\\leq f(b)$가 성립하는 함수\r\n",
        "\r\n",
        "- 신경망을 이용한 분류에서는 일반적으로 가장 큰 출력을 내는 뉴런에 해당하는 클래스로만 인식하고, 소프트맥스 함수를 적용해도 출력이 가장 큰 뉴런의 위치는 달라지지 않기 때문에, 신경망으로 분류할 때는 출력층의 소프트맥스 함수를 생략해도 된다. 현업에서도 지수 함수 계산에 드는 자원 낭비를 줄이고자 출력층의 소프트맥스 함수는 생략하는 것이 일반적이다.\r\n",
        "\r\n",
        "- 기계학습의 문제 풀이는 학습과 추론inference의 두 단계를 거쳐 이뤄진다. 학습 단계에서 모델을 학습하고, 추론 단계에서 앞서 학습한 모델로 미지의 데이터에 대해 추론을 수행한다. <u>추론 단계에서는 출력층의 소프트맥스 함수를 생략하는 것이 일반적</u>인 반면, 신경망을 <u>학습시킬 때는 출력층에서 소프트맥스 함수를 사용</u>한다.\r\n",
        "\r\n"
      ]
    },
    {
      "cell_type": "markdown",
      "metadata": {
        "id": "4NpMIbJLS0RH"
      },
      "source": [
        "### 3.5.4 출력층의 뉴런 수 정하기"
      ]
    },
    {
      "cell_type": "markdown",
      "metadata": {
        "id": "9ycNkc0DpMp9"
      },
      "source": [
        "- 출력층의 뉴런 수는 풀려는 문제에 맞게 정한다.\r\n",
        "- 분류에서는 분류하고 싶은 클래스 수로 설정하는 것이 일반적  \r\n",
        " ex) 입력 이미지를 0부터 9 중 하나로 분류하는 문제라면, 출력층의 뉴런을 10개로 설정"
      ]
    },
    {
      "cell_type": "markdown",
      "metadata": {
        "id": "wpqC3XWKS0RH"
      },
      "source": [
        "## 3.6 손글씨 숫자 인식"
      ]
    },
    {
      "cell_type": "markdown",
      "metadata": {
        "id": "-yGYrvlQqcxt"
      },
      "source": [
        "- 머신러닝과 마찬가지로 신경망도 두 단계를 거쳐 문제를 해결한다.\r\n",
        " 1.   학습: 훈련 데이터(학습 데이터)를 사용해 가중치 매개변수를 학습 \r\n",
        " 2.   추론: 앞서 학습한 매개변수를 사용하여 입력 데이터를 분류"
      ]
    },
    {
      "cell_type": "markdown",
      "metadata": {
        "id": "2VLYa0oXS0RH"
      },
      "source": [
        "### 3.6.1 MNIST 데이터셋"
      ]
    },
    {
      "cell_type": "code",
      "metadata": {
        "colab": {
          "base_uri": "https://localhost:8080/"
        },
        "id": "7ZDWDjtcvKdq",
        "outputId": "ed6c0935-188d-4987-d93b-9ea695d16fdd"
      },
      "source": [
        "from mnist import load_mnist\r\n",
        "\r\n",
        "(x_train, t_train), (x_test, t_test) = \\\r\n",
        "    load_mnist(flatten=True, normalize=False)\r\n",
        "\r\n",
        "print(x_train.shape)\r\n",
        "print(t_train.shape)\r\n",
        "print(x_test.shape)\r\n",
        "print(t_test.shape)"
      ],
      "execution_count": 198,
      "outputs": [
        {
          "output_type": "stream",
          "text": [
            "(60000, 784)\n",
            "(60000,)\n",
            "(10000, 784)\n",
            "(10000,)\n"
          ],
          "name": "stdout"
        }
      ]
    },
    {
      "cell_type": "code",
      "metadata": {
        "id": "XL3GJoOYzHqf",
        "colab": {
          "base_uri": "https://localhost:8080/"
        },
        "outputId": "8a676ff2-4f64-4271-91a9-46e8c987e599"
      },
      "source": [
        "import numpy as np\r\n",
        "from mnist import load_mnist\r\n",
        "from PIL import Image\r\n",
        "\r\n",
        "def img_show(img):\r\n",
        "    pil_img = Image.fromarray(np.uint8(img))\r\n",
        "    pil_img.show()\r\n",
        "\r\n",
        "(x_train, t_train), (x_test, t_test) = \\\r\n",
        "    load_mnist(flatten=True, normalize=False)\r\n",
        "\r\n",
        "img = x_train[0]\r\n",
        "label = t_train[0]\r\n",
        "print(label)\r\n",
        "\r\n",
        "print(img.shape)\r\n",
        "img = img.reshape(28, 28)\r\n",
        "print(img.shape)\r\n",
        "\r\n",
        "img_show(img)"
      ],
      "execution_count": 199,
      "outputs": [
        {
          "output_type": "stream",
          "text": [
            "5\n",
            "(784,)\n",
            "(28, 28)\n"
          ],
          "name": "stdout"
        }
      ]
    },
    {
      "cell_type": "markdown",
      "metadata": {
        "id": "6q86mUxzS0RH"
      },
      "source": [
        "### 3.6.2 신경망의 추론 처리"
      ]
    },
    {
      "cell_type": "code",
      "metadata": {
        "id": "p74DDq9b1oSt",
        "colab": {
          "base_uri": "https://localhost:8080/"
        },
        "outputId": "daf15414-643e-40ad-b7a2-520bc7b7bc47"
      },
      "source": [
        "# 아래에서 open하는 sample_weight.pkl 파일 업로드\r\n",
        "# from google.colab import files \r\n",
        "# file_uploaded = files.upload()\r\n",
        "\r\n",
        "# 피클 임포트\r\n",
        "import pickle\r\n",
        "\r\n",
        "# 3.5.2에서 만든 softmax 함수 재사용\r\n",
        "def softmax(a):\r\n",
        "    c = np.max(a)\r\n",
        "    exp_a = np.exp(a-c) # 오버플로 대책\r\n",
        "    sum_exp_a = np.sum(exp_a)\r\n",
        "    y = exp_a / sum_exp_a\r\n",
        "    return y\r\n",
        "\r\n",
        "def get_data():\r\n",
        "    (x_train, t_train), (x_test, t_test) = \\\r\n",
        "        load_mnist(normalize=True, flatten=True, one_hot_label=False)\r\n",
        "    return x_test, t_test\r\n",
        "\r\n",
        "def init_network():\r\n",
        "    with open(\"sample_weight.pkl\", 'rb') as f:\r\n",
        "        network = pickle.load(f)\r\n",
        "    return network\r\n",
        "\r\n",
        "def predict(network, x):\r\n",
        "    W1, W2, W3 = network['W1'], network['W2'], network['W3']\r\n",
        "    b1, b2, b3 = network['b1'], network['b2'], network['b3']\r\n",
        "\r\n",
        "    a1 = np.dot(x, W1) + b1\r\n",
        "    z1 = sigmoid(a1)\r\n",
        "    a2 = np.dot(z1, W2) + b2\r\n",
        "    z2 = sigmoid(a2)\r\n",
        "    a3 = np.dot(z2, W3) + b3\r\n",
        "    y = softmax(a3)\r\n",
        "    \r\n",
        "    return y\r\n",
        "\r\n",
        "x, t = get_data()\r\n",
        "network = init_network()\r\n",
        "accuracy_cnt = 0\r\n",
        "for i in range(len(x)):\r\n",
        "    y = predict(network, x[i])\r\n",
        "    p = np.argmax(y)\r\n",
        "    if p == t[i]:\r\n",
        "        accuracy_cnt += 1\r\n",
        "\r\n",
        "print(\"Accuracy:\" + str(float(accuracy_cnt) / len(x)))"
      ],
      "execution_count": 200,
      "outputs": [
        {
          "output_type": "stream",
          "text": [
            "Accuracy:0.9352\n"
          ],
          "name": "stdout"
        }
      ]
    },
    {
      "cell_type": "markdown",
      "metadata": {
        "id": "RbOkIWvDS0RI"
      },
      "source": [
        "### 3.6.3 배치 처리"
      ]
    },
    {
      "cell_type": "markdown",
      "metadata": {
        "id": "xBjjiU2w-yXN"
      },
      "source": [
        "- 배치 처리는 컴퓨터 계산 시 큰 이점이 있다.  \r\n",
        " 1) 수치 계산 라이브러리 대부분이 큰 배열을 효율적으로 처리할 수 있도록 고도로 최적화되어 있다.  \r\n",
        " 2) 커다란 신경망에서는 데이터 전송이 병복으로 작용하는 경우가 자주 있는데, 배치 처리를 함으로써 버스에 주는 부하를 줄인다.(느린 I/O를 통해 데이터를 읽는 횟수가 줄어, 빠른 CPU나 GPU로 순수 계산을 수행하는 비율이 높아짐)\r\n",
        "\r\n",
        " > 배치 처리를 수행함으로써 큰 배열로 이뤄진 계산을 하게 되는데, 컴퓨터에서는 큰 배열을 한꺼번에 계산하는 것이 분할된 작은 배열을 여러 번 계산하는 것보다 빠르다."
      ]
    },
    {
      "cell_type": "markdown",
      "metadata": {
        "id": "t6yYltNtS0RI"
      },
      "source": [
        "## 3.7 정리"
      ]
    },
    {
      "cell_type": "markdown",
      "metadata": {
        "id": "SYfVpMHjCXgw"
      },
      "source": [
        "- 신경망은 각 층의 뉴런들이 다음 층의 뉴런으로 신호를 전달한다는 점에서 퍼셉트론과 같다.\r\n",
        "- BUT 다음 뉴런으로 갈 때 신호를 변화시키는 활성화 함수에 큰 차이가 있다.\r\n",
        " - 신경망에서는 매끄럽게 변화하는 시그모이드 함수를 활성화 함수로 사용  \r\n",
        " - 퍼셉트론에서는 갑자기 변화하는 계단 함수를 활성화 함수로 사용"
      ]
    },
    {
      "cell_type": "markdown",
      "metadata": {
        "id": "4D99g7Tu5gDy"
      },
      "source": [
        "# 4 신경망 학습"
      ]
    },
    {
      "cell_type": "markdown",
      "metadata": {
        "id": "mywDZkdz54rf"
      },
      "source": [
        "- 학습: 훈련 데이터로부터 가중치 매개변수의 최적값을 자동으로 획득하는 것\r\n",
        "- 손실 함수: 신경망이 학습할 수 있도록 해주는 지표\r\n",
        "- 학습의 목표: 손실 함수의 결괏값을 가장 작게 만드는 가중치 매개변수를 찾는 것\r\n",
        "- 목표 달성을 위해 이번 장에서 소개하는 방법: 함수의 기울기를 활용하는 경사법"
      ]
    },
    {
      "cell_type": "markdown",
      "metadata": {
        "id": "2rGDZa7o5ydz"
      },
      "source": [
        "## 4.1 데이터에서 학습한다!"
      ]
    },
    {
      "cell_type": "markdown",
      "metadata": {
        "id": "ub119EA06qzM"
      },
      "source": [
        "- 신경망에서는 매개변수가 수천에서 수만 개에 이르고, 층을 깊게 한 딥러닝의 경우 수억에 이를 수도 있으므로 매개변수를 수작업으로 정하는 것이 불가능하다.\r\n",
        "\r\n",
        "---\r\n",
        "- 선형 분리 가능 문제는 유한 번의 학습을 통해 풀 수 있다: 퍼셉트론 수렴 정리\r\n",
        "- 비선형 분리 문제는 자동으로 학습할 수 없다."
      ]
    },
    {
      "cell_type": "markdown",
      "metadata": {
        "id": "hP_CP2Mx1Q8i"
      },
      "source": [
        "### 4.1.1 데이터 주도 학습"
      ]
    },
    {
      "cell_type": "markdown",
      "metadata": {
        "id": "wQjR3ER71Xuq"
      },
      "source": [
        "1) 사람이 생각한 알고리즘  \r\n",
        "2) 사람이 생각한 특징(SIFT, HOG 등) + 기계학습(SVM, KNN 등)  \r\n",
        "3) 신경망(딥러닝): 이미지에 포함된 중요한 특징까지도 기계가 스스로 학습  \r\n",
        "\r\n",
        "* 딥러닝을 종단간 기계학습end-to-end machine learning이라고도 함  \r\n",
        "  = 데이터(입력)에서 목표한 결과(출력)를 사람의 개입 없이 얻음\r\n",
        "* 신경망의 이점은 모든 문제를 같은 맥락에서 풀 수 있다는 점  \r\n",
        "  = 세부사항과 관계없이 주어진 데이터를 온전히 학습하고, 주어진 문제의 패턴을 발견하려 시도"
      ]
    },
    {
      "cell_type": "markdown",
      "metadata": {
        "id": "-rUi2L_D4V9F"
      },
      "source": [
        "### 4.1.2 훈련 데이터와 시험 데이터"
      ]
    },
    {
      "cell_type": "markdown",
      "metadata": {
        "id": "1btub90y4abg"
      },
      "source": [
        "- 훈련 데이터와 시험 데이터를 분리하는 이유: 범용 능력을 제대로 평가하기 위해\r\n",
        "- 범용 능력이란?\r\n",
        " - 아직 보지 못한 데이터(훈련 데이터에 포함되지 않는 데이터)로도 문제를 올바르게 풀어내는 능력  \r\n",
        " - 범용 능력을 획득하는 것이 기계학습의 최종 목표\r\n",
        "- 따라서 데이터셋 하나로만 매개변수의 학습과 평가를 수행하면 올바른 평가가 될 수 없다.\r\n",
        "- 한 데이터셋에만 지나치게 최적화된 상태를 오버피팅overfitting이라고 한다. 오버피팅 피하기는 기계학습의 중요한 과제이다."
      ]
    },
    {
      "cell_type": "markdown",
      "metadata": {
        "id": "_oU05Syu5Ec7"
      },
      "source": [
        "## 4.2 손실 함수"
      ]
    },
    {
      "cell_type": "markdown",
      "metadata": {
        "id": "CUVNqi0x5Him"
      },
      "source": [
        "- 신경망에서는 하나의 지표를 기준으로 최적의 매개변수 값을 탐색하며, 이 지표를 손실 함수loss function라고 한다.\r\n",
        "- 손실 함수는 임의의 함수를 사용할 수도 있지만, 일반적으로는 오차제곱합과 교차 엔트로피 오차를 사용한다.\r\n",
        "- 손실 함수는 신경망 성능의 '나쁨'을 나타내는 지표로, 현재의 신경망이 훈련 데이터를 얼마나 잘 처리하지 '못'하느냐를 나타낸다.\r\n",
        " - 손실 함수에 마이너스만 곱하면 '얼마나 좋은지'를 나타낸다.\r\n",
        " - '나쁨을 최소로 하는 것'과 '좋음을 최대로 하는 것'은 결국 같은 것이므로, 어느 쪽을 지표로 삼아도 본질적으로 수행하는 일은 같다. "
      ]
    },
    {
      "cell_type": "markdown",
      "metadata": {
        "id": "_3U9vsxP6Zih"
      },
      "source": [
        "### 4.2.1 오차제곱합"
      ]
    },
    {
      "cell_type": "markdown",
      "metadata": {
        "id": "hQ7YJ3DY6c-n"
      },
      "source": [
        "- 오차제곱합sum of squares for error, SSE은 가장 많이 쓰이는 손실 함수이다.\r\n",
        "- $E = \\frac{1}{2}\\sum_{k}(y_k-t_k)^2$\r\n",
        "- $y_k$는 신경망의 출력(신경망이 추정한 값), $t_k$는 정답 레이블, $k$는 데이터의 차원 수\r\n",
        "- 신경망의 출력 $y$는 소프트맥스 함수의 출력이며, 소프트맥스 함수의 출력은 확률로 해석할 수 있다.\r\n",
        "- 정답 레이블인 $t$는 정답을 가리키는 위치의 원소는 1로, 그 외에는 0으로 표기한다.(원-핫 인코딩)\r\n",
        "\r\n",
        "▼ 3.6 손글씨 숫자 인식에서 데이터를 가져오자."
      ]
    },
    {
      "cell_type": "code",
      "metadata": {
        "id": "Bt6w5uj_8yHY"
      },
      "source": [
        "import numpy as np\r\n",
        "\r\n",
        "# 오차제곱합을 파이썬으로 구현\r\n",
        "def sse(y, t):\r\n",
        "    return 0.5 * np.sum((y-t)**2)\r\n",
        "\r\n",
        "# 정답은 '2'\r\n",
        "t = [0, 0, 1, 0, 0, 0, 0, 0, 0, 0]"
      ],
      "execution_count": 201,
      "outputs": []
    },
    {
      "cell_type": "code",
      "metadata": {
        "id": "ee3HA8OR-SJg",
        "colab": {
          "base_uri": "https://localhost:8080/"
        },
        "outputId": "59f6e19e-4f09-4345-8a6b-1aac8abf0b56"
      },
      "source": [
        "# 예1: '2'일 확률이 가장 높다고 추정(0.6)\r\n",
        "y = [0.1, 0.05, 0.6, 0.0, 0.05, 0.1, 0.0, 0.1, 0.0, 0.0]\r\n",
        "sse(np.array(y), np.array(t))"
      ],
      "execution_count": 202,
      "outputs": [
        {
          "output_type": "execute_result",
          "data": {
            "text/plain": [
              "0.09750000000000003"
            ]
          },
          "metadata": {
            "tags": []
          },
          "execution_count": 202
        }
      ]
    },
    {
      "cell_type": "code",
      "metadata": {
        "id": "KC6v0Xr7-VZD",
        "colab": {
          "base_uri": "https://localhost:8080/"
        },
        "outputId": "ea98638d-7f47-41b7-cafb-8ceb8ef469eb"
      },
      "source": [
        "# 예2: '7'일 확률이 가장 높다고 추정(0.6)\r\n",
        "y = [0.1, 0.05, 0.1, 0.0, 0.05, 0.1, 0.0, 0.6, 0.0, 0.0]\r\n",
        "sse(np.array(y), np.array(t))"
      ],
      "execution_count": 203,
      "outputs": [
        {
          "output_type": "execute_result",
          "data": {
            "text/plain": [
              "0.5975"
            ]
          },
          "metadata": {
            "tags": []
          },
          "execution_count": 203
        }
      ]
    },
    {
      "cell_type": "markdown",
      "metadata": {
        "id": "REa9RIiC8-Xy"
      },
      "source": [
        "- 오차제곱합 값이 작은 것이 정답에 더 가까운 것으로 판단"
      ]
    },
    {
      "cell_type": "markdown",
      "metadata": {
        "id": "ojyye95r-s8U"
      },
      "source": [
        "### 4.2.2 교차 엔트로피 오차"
      ]
    },
    {
      "cell_type": "markdown",
      "metadata": {
        "id": "90ajRB1E_6n-"
      },
      "source": [
        "- 교차 엔트로피 오차: cross entropy error, CEE\r\n",
        "- $E = -\\sum_{k}t_klogy_k$\r\n",
        "- $log$는 밑이 $e$인 자연로그, $y_k$는 신경망의 출력, $t_k$는 정답 레이블\r\n",
        "- $t_k$는 정답에 해당하는 인덱스의 원소만 1이고 나머지는 0\r\n",
        "\r\n",
        " ∴ 정답일 때의 추정($t_k$가 1일 때의 $y_k$)의 자연로그를 계산  \r\n",
        " (정답이 아닌 나머지 모두는 $t_k$가 0이므로 $logy_k$와 곱해도 0이 되어 결과에 영향을 주지 않음)"
      ]
    },
    {
      "cell_type": "code",
      "metadata": {
        "id": "Xynv84sxEGhG",
        "colab": {
          "base_uri": "https://localhost:8080/",
          "height": 750
        },
        "outputId": "b53d843c-c925-4e23-ac7a-72375cd301c0"
      },
      "source": [
        "from IPython.display import Image\r\n",
        "Image('자연로그 그래프.png')"
      ],
      "execution_count": 204,
      "outputs": [
        {
          "output_type": "execute_result",
          "data": {
            "image/png": "[encoded data removed]",
            "text/plain": [
              "<IPython.core.display.Image object>"
            ]
          },
          "metadata": {
            "tags": []
          },
          "execution_count": 204
        }
      ]
    },
    {
      "cell_type": "markdown",
      "metadata": {
        "id": "4WgSID8bEU9L"
      },
      "source": [
        "$x$가 1일 때 $y$는 0이 되고 $x$가 0에 가까워질수록 $y$의 값은 점점 작아짐"
      ]
    },
    {
      "cell_type": "code",
      "metadata": {
        "id": "4IzH2Qh1EsKb"
      },
      "source": [
        "def cee(y,t):\r\n",
        "    delta = 1e-7\r\n",
        "    return -np.sum(t*np.log(y+delta))"
      ],
      "execution_count": 205,
      "outputs": []
    },
    {
      "cell_type": "code",
      "metadata": {
        "id": "w5i1B97eFQwd",
        "colab": {
          "base_uri": "https://localhost:8080/"
        },
        "outputId": "14939052-3d9f-4e4a-bf8e-b8ad1bc576c7"
      },
      "source": [
        "# 정답은 '2'\r\n",
        "t = [0, 0, 1, 0, 0, 0, 0, 0, 0, 0]\r\n",
        "\r\n",
        "# 예1: '2'일 확률이 가장 높다고 추정(0.6)\r\n",
        "y = [0.1, 0.05, 0.6, 0.0, 0.05, 0.1, 0.0, 0.1, 0.0, 0.0]\r\n",
        "cee(np.array(y), np.array(t))"
      ],
      "execution_count": 206,
      "outputs": [
        {
          "output_type": "execute_result",
          "data": {
            "text/plain": [
              "0.510825457099338"
            ]
          },
          "metadata": {
            "tags": []
          },
          "execution_count": 206
        }
      ]
    },
    {
      "cell_type": "code",
      "metadata": {
        "id": "vR7_fAgxFf_b",
        "colab": {
          "base_uri": "https://localhost:8080/"
        },
        "outputId": "6ddf6356-eadb-42c8-b50b-847a383e01e8"
      },
      "source": [
        "# 예2: '7'일 확률이 가장 높다고 추정(0.6)\r\n",
        "y = [0.1, 0.05, 0.1, 0.0, 0.05, 0.1, 0.0, 0.6, 0.0, 0.0]\r\n",
        "cee(np.array(y), np.array(t))"
      ],
      "execution_count": 207,
      "outputs": [
        {
          "output_type": "execute_result",
          "data": {
            "text/plain": [
              "2.302584092994546"
            ]
          },
          "metadata": {
            "tags": []
          },
          "execution_count": 207
        }
      ]
    },
    {
      "cell_type": "markdown",
      "metadata": {
        "id": "wbkb5xJxFufl"
      },
      "source": [
        "- 결과(오차 값)가 더 작은 첫 번째 추정이 정답일 가능성이 높다고 판단\r\n",
        "- 앞서 오차제곱합의 판단과 일치"
      ]
    },
    {
      "cell_type": "markdown",
      "metadata": {
        "id": "tGvgcJG6_Eos"
      },
      "source": [
        "### 4.2.3 미니배치 학습"
      ]
    },
    {
      "cell_type": "markdown",
      "metadata": {
        "id": "252zpSUgGBLn"
      },
      "source": [
        "- 훈련 데이터 중 일부만 골라 학습을 수행할 때, 그 일부를 미니배치mini-batch라고 한다."
      ]
    },
    {
      "cell_type": "code",
      "metadata": {
        "id": "GRTAiuN9GIUr",
        "colab": {
          "base_uri": "https://localhost:8080/"
        },
        "outputId": "413bdb91-dc6a-46d5-a70a-08a0484c7daa"
      },
      "source": [
        "from mnist import load_mnist\r\n",
        "\r\n",
        "(x_train, t_train), (x_test, t_test) = \\\r\n",
        "    load_mnist(normalize=True, one_hot_label=True)\r\n",
        "\r\n",
        "print(x_train.shape)\r\n",
        "print(t_train.shape)"
      ],
      "execution_count": 208,
      "outputs": [
        {
          "output_type": "stream",
          "text": [
            "(60000, 784)\n",
            "(60000, 10)\n"
          ],
          "name": "stdout"
        }
      ]
    },
    {
      "cell_type": "markdown",
      "metadata": {
        "id": "9UIGmiDL_G9G"
      },
      "source": [
        "### 4.2.4 (배치용) 교차 엔트로피 오차 구현하기"
      ]
    },
    {
      "cell_type": "code",
      "metadata": {
        "id": "WaFkjl5UqVXs"
      },
      "source": [
        "# 데이터가 하나인 경우와 데이터가 배치로 묶여 입력될 경우 모두를 처리할 수 있도록 구현\r\n",
        "def cee(y,t):\r\n",
        "    if y.ndim == 1:\r\n",
        "        t = t.reshape(1, t.size)\r\n",
        "        y = y.reshape(1, y.size)\r\n",
        "    \r\n",
        "    batch_size = y.shape[0]\r\n",
        "    return -np.sum(t*np.log(y+1e-7))/batch_size"
      ],
      "execution_count": 209,
      "outputs": []
    },
    {
      "cell_type": "code",
      "metadata": {
        "id": "PKHeQqR0q2_V"
      },
      "source": [
        "# 정답 레이블이 원-핫 인코딩이 아니라 '2'나 '7'등 숫자 레이블로 주어졌을 때\r\n",
        "def cee(y,t):\r\n",
        "    if y.ndim == 1:\r\n",
        "        t = t.reshape(1, t.size)\r\n",
        "        y = y.reshape(1, y.size)\r\n",
        "    \r\n",
        "    batch_size = y.shape[0]\r\n",
        "    return -np.sum(np.log(y[np.arange(batch_size), t]+1e-7))/batch_size"
      ],
      "execution_count": 210,
      "outputs": []
    },
    {
      "cell_type": "markdown",
      "metadata": {
        "id": "ZTyRaNZm_Liq"
      },
      "source": [
        "### 4.2.5 왜 손실 함수를 설정하는가?"
      ]
    },
    {
      "cell_type": "markdown",
      "metadata": {
        "id": "PwxcGJhRrYqy"
      },
      "source": [
        "Q. '정확도'라는 지표를 두고 '손실 함수의 값'이라는 우회적인 방법을 택하는 이유는 무엇일까?\r\n",
        "\r\n",
        "A. 정확도를 지표로 하면 매개변수의 미분이 대부분의 장소에서 0이 되기 때문이다.  \r\n",
        "-> '계단 함수'를 활성화 함수로 사용하지 않는 이유와 같다고 할 수 있다."
      ]
    },
    {
      "cell_type": "markdown",
      "metadata": {
        "id": "WAkjKVK5_PG6"
      },
      "source": [
        "## 4.3 수치 미분"
      ]
    },
    {
      "cell_type": "markdown",
      "metadata": {
        "id": "E4gBskdE_Szd"
      },
      "source": [
        "### 4.3.1 미분"
      ]
    },
    {
      "cell_type": "code",
      "metadata": {
        "id": "_aFHoxRjtZ1t"
      },
      "source": [
        "# 미분 수식을 그대로 구현한 예\r\n",
        "def numerical_diff(f,x):\r\n",
        "    h = 10e-50\r\n",
        "    return (f(x+h)-f(x))/h"
      ],
      "execution_count": 211,
      "outputs": []
    },
    {
      "cell_type": "markdown",
      "metadata": {
        "id": "4U5RU-YWt0mB"
      },
      "source": [
        "\r\n",
        "\r\n",
        "- 1e-50을 float32형(32비트 부동소수점)으로 나타내면 0.0이 되어 올바로 표현할 수 없다.\r\n",
        "- <u>첫 번째 개선점: 미세한 값 h로 $10^{-4}$를 이용하자.</u>"
      ]
    },
    {
      "cell_type": "markdown",
      "metadata": {
        "id": "eFRwcV4_sBEh"
      },
      "source": [
        "- 아주 작은 차분(임의 두 점에서의 함수 값들의 차이)으로 미분하는 것, 즉 근사치로 계산하는 것을 수치 미분이라고 한다.  \r\n",
        "cf. 수식을 전개해 미분하는 것은 해석적 미분이라고 하며, 해석적 미분은 오차를 포함하지 않는 '진정한 미분' 값을 구한다.\r\n",
        "- <u>두 번째 개선점: 진정한 미분과 수치 미분의 값은 다르므로, 오차를 줄이기 위해 $(x+h)$와 $(x-h)$일 때의 함수 $f$의 차분을 계산하는 방법을 사용한다.</u>\r\n",
        "\r\n",
        "* 이 차분은 $x$를 중심으로 그 전후의 차분을 계산한다는 의미에서 <b>중심 차분</b> 또는 <b>중앙 차분</b>이라고 한다. (한편 $(x+h)$와 $x$의 차분은 <b>전방 차분</b>이라 한다.)"
      ]
    },
    {
      "cell_type": "code",
      "metadata": {
        "id": "MQJAub9VvK8F"
      },
      "source": [
        "# 두 개선점을 적용해 수치 미분을 다시 구현\r\n",
        "def numerical_diff(f,x):\r\n",
        "    h = 1e-4\r\n",
        "    return (f(x+h)-f(x-h))/(2*h)"
      ],
      "execution_count": 212,
      "outputs": []
    },
    {
      "cell_type": "markdown",
      "metadata": {
        "id": "fSUlg_03_VZi"
      },
      "source": [
        "### 4.3.2 수치 미분의 예"
      ]
    },
    {
      "cell_type": "code",
      "metadata": {
        "colab": {
          "base_uri": "https://localhost:8080/",
          "height": 279
        },
        "id": "aRx9JVrHs0sj",
        "outputId": "327f44bc-1d8a-4e86-c00b-7bce3ee0d55a"
      },
      "source": [
        "def function_1(x):\r\n",
        "    return 0.01*x**2 + 0.1*x\r\n",
        "\r\n",
        "import numpy as np\r\n",
        "import matplotlib.pylab as plt\r\n",
        "\r\n",
        "x = np.arange(0.0, 20.0, 0.1)\r\n",
        "y = function_1(x)\r\n",
        "plt.xlabel(\"x\")\r\n",
        "plt.ylabel(\"f(x)\")\r\n",
        "plt.plot(x,y)\r\n",
        "plt.show()"
      ],
      "execution_count": 213,
      "outputs": [
        {
          "output_type": "display_data",
          "data": {
            "image/png": "[encoded data removed]",
            "text/plain": [
              "<Figure size 432x288 with 1 Axes>"
            ]
          },
          "metadata": {
            "tags": [],
            "needs_background": "light"
          }
        }
      ]
    },
    {
      "cell_type": "code",
      "metadata": {
        "colab": {
          "base_uri": "https://localhost:8080/"
        },
        "id": "ZawCP4rdvZ8q",
        "outputId": "cdce8d64-71fa-44f8-f21b-67431d40fa9a"
      },
      "source": [
        "# x=5일 때와 10일 때 위 함수의 미분을 계산하면\r\n",
        "numerical_diff(function_1, 5)"
      ],
      "execution_count": 214,
      "outputs": [
        {
          "output_type": "execute_result",
          "data": {
            "text/plain": [
              "0.1999999999990898"
            ]
          },
          "metadata": {
            "tags": []
          },
          "execution_count": 214
        }
      ]
    },
    {
      "cell_type": "code",
      "metadata": {
        "colab": {
          "base_uri": "https://localhost:8080/"
        },
        "id": "9yPes8MQv75c",
        "outputId": "21e0128a-938b-4561-d513-8d6bb55bf5aa"
      },
      "source": [
        "numerical_diff(function_1, 10)"
      ],
      "execution_count": 215,
      "outputs": [
        {
          "output_type": "execute_result",
          "data": {
            "text/plain": [
              "0.2999999999986347"
            ]
          },
          "metadata": {
            "tags": []
          },
          "execution_count": 215
        }
      ]
    },
    {
      "cell_type": "markdown",
      "metadata": {
        "id": "hVzAxAplsgig"
      },
      "source": [
        "- 수치 미분과 해석적 미분은 실제로 거의 같은 값이라고 해도 될 만큼 작은 오차를 가진다.\r\n",
        "- 수치 미분 값을 기울기로 하는 직선을 그려보면, 함수의 접선에 해당한다."
      ]
    },
    {
      "cell_type": "markdown",
      "metadata": {
        "id": "C9unLlmA_Zeb"
      },
      "source": [
        "### 4.3.3 편미분"
      ]
    },
    {
      "cell_type": "markdown",
      "metadata": {
        "id": "CHqvHYELwDp7"
      },
      "source": [
        "- 변수가 2개인 인수들의 제곱 합을 계산하는 식을 파이썬으로 구현해 보자."
      ]
    },
    {
      "cell_type": "code",
      "metadata": {
        "id": "khrJa7D9wNgP"
      },
      "source": [
        "def function_2(x):\r\n",
        "    return x[0]**2 + x[1]**2"
      ],
      "execution_count": null,
      "outputs": []
    },
    {
      "cell_type": "markdown",
      "metadata": {
        "id": "pD9zZBoXwZfa"
      },
      "source": [
        "- 편미분도 변수가 하나인 미분과 마찬가지로 특정 장소의 기울기를 구한다.\r\n",
        "- 단, 여러 변수 중 목표 변수 하나에 초점을 맞추고 다른 변수는 값을 고정한다."
      ]
    },
    {
      "cell_type": "markdown",
      "metadata": {
        "id": "pGtq9YI7_bXU"
      },
      "source": [
        "## 4.4 기울기"
      ]
    },
    {
      "cell_type": "markdown",
      "metadata": {
        "id": "6-qCQEjCwmzq"
      },
      "source": [
        "- $x_0$과 $x_1$의 편미분을 동시에 계산하고 싶다면 어떻게 할까?\r\n",
        "- 모든 변수의 편미분을 벡터로 정리한 것을 기울기gradient라고 한다.\r\n",
        "- 기울기는 각 지점에서 낮아지는 방향, 즉 각 장소에서 함수의 출력 값을 가장 크게 줄이는 방향을 가리킨다."
      ]
    },
    {
      "cell_type": "markdown",
      "metadata": {
        "id": "t1U5Ps0d_d4Y"
      },
      "source": [
        "### 4.4.1 경사법(경사 하강법)"
      ]
    },
    {
      "cell_type": "markdown",
      "metadata": {
        "id": "nISFQcXrxul8"
      },
      "source": [
        "- 각 지점에서 함수의 값을 낮추는 방안을 제시하는 지표가 기울기이지만, 기울기가 가리키는 곳에 정말 함수의 최솟값이 있는지, 즉 그쪽이 정말로 나아갈 방향인지는 보장할 수 없다. 실제로 복잡한 함수에서는 기울기가 가리키는 방향에 최솟값이 없는 경우가 대부분이다.\r\n",
        "- 현 위치에서 기울어진 방향으로 일정 거리만큼 이동한다. 그런 다음 이동한 곳에서도 마찬가지로 기울기를 구하고, 또 그 기울어진 방향으로 나아가기를 반복한다. 이렇게 해서 함수의 값을 점차 줄이는 것이 경사법이다.\r\n",
        "- 경사법은 기계학습을 최적화하는 데 흔히 쓰는 방법이다.\r\n",
        "- 경사법을 수식으로 나타내면 다음과 같다.  \r\n",
        " $x_0=x_0-η\\frac{∂f}{∂x_0}$  \r\n",
        "  \r\n",
        " $x_1=x_1-η\\frac{∂f}{∂x_1}$\r\n",
        "\r\n",
        "- η기호 에타eta는 갱신하는 양을 나타내며, 이를 신경망 학습에서는 학습률learning rate라고 한다. 한 번의 학습으로 얼마만큼 학습해야 할지, 즉 매개변수 값을 얼마나 갱신할지를 정하는 것이 학습률이다.\r\n",
        "- 학습률 값은 0.01이나 0.001 등 미리 특정 값으로 정해두어야 하며, 일반적으로 이 값이 너무 크거나 작으면 '좋은 장소'를 찾아갈 수 없다. 신경망 학습에서는 이 값을 변경하면서 올바르게 학습하고 있는지 확인하며 진행한다."
      ]
    },
    {
      "cell_type": "code",
      "metadata": {
        "id": "BSMzoHUV5W4J"
      },
      "source": [
        "# 경사 하강법 구현\r\n",
        "def gradient_descent(f, init_x, lr=0.01, step_num=100):\r\n",
        "    x = init_x\r\n",
        "\r\n",
        "    for i in range(step_num):\r\n",
        "        grad = numerical_gradient(f,x):\r\n",
        "        x -= lr * grad\r\n",
        "    return x\r\n",
        "# 이 함수로 함수의 극솟값을 구할 수 있고 잘하면 최솟값을 구할 수도 있다."
      ],
      "execution_count": null,
      "outputs": []
    },
    {
      "cell_type": "markdown",
      "metadata": {
        "id": "3EkWdvtx515X"
      },
      "source": [
        "- 학습률이 너무 크면 큰 값으로 발산하고, 너무 작으면 거의 갱신되지 않은 채 끝난다.\r\n",
        "- 학습률 같은 매개변수를 하이퍼파라미터라고 한다.\r\n",
        " - 신경망의 가중치 매개변수는 훈련 데이터와 학습 알고리즘에 의해서 '자동'으로 획득되는 매개변수인 반면, 학습률 같은 하이퍼파라미터는 사람이 직접 설정해야 하는 매개변수이다.\r\n",
        " - 일반적으로 하이퍼파라미터는 여러 후보 값 중에서 시험을 통해 가장 잘 학습하는 값을 찾는 과정을 거쳐야 한다."
      ]
    },
    {
      "cell_type": "markdown",
      "metadata": {
        "id": "O9vENBjW_hRm"
      },
      "source": [
        "### 4.4.2 신경망에서의 기울기"
      ]
    },
    {
      "cell_type": "markdown",
      "metadata": {
        "id": "EOguK9F_89a6"
      },
      "source": [
        "- 가중치 매개변수에 대한 손실 함수의 기울기\r\n",
        "- 가중치가 $W$, 손실 함수가 $L$인 신경망이 있다면, 경사는 $\\frac{∂L}{∂W}$이다.\r\n",
        "- $\\frac{∂L}{∂W}$의 각 원소는 각각의 원소에 관한 편미분이다.\r\n",
        "- $\\frac{∂L}{∂W}$의 형상은 $W$와 같다.\r\n",
        "- 신경망의 기울기를 구한 다음에는 경사법에 따라 가중치 매개변수를 갱신하기만 하면 된다."
      ]
    },
    {
      "cell_type": "markdown",
      "metadata": {
        "id": "RfB_tcoc_kjy"
      },
      "source": [
        "## 4.5 학습 알고리즘 구현하기"
      ]
    },
    {
      "cell_type": "markdown",
      "metadata": {
        "id": "Qph4OTLH94FV"
      },
      "source": [
        "- 신경망 학습의 절차\r\n",
        " - 전제  \r\n",
        "    신경망에는 적응 가능한 가중치와 편향이 있고, 이 가중치와 편향을 훈련 데이터에 적응하도록 조정하는 과정을 '학습'이라 한다. 신경망 학습은 다음과 같이 4단계로 수행한다.\r\n",
        " - 1단계: 미니배치  \r\n",
        "    훈련 데이터 중 일부를 무작위로 가져온다. 이렇게 선별한 데이터를 미니배치라 하며, 그 미니배치의 손실 함수 값을 줄이는 것이 목표이다.\r\n",
        " - 2단계: 기울기 산출  \r\n",
        "    미니배치의 손실 함수 값을 줄이기 위해 각 가중치 매개변수의 기울기를 구한다. 기울기는 손실 함수의 값을 가장 작게 하는 방향을 제시한다.\r\n",
        " - 3단계: 매개변수 갱신  \r\n",
        "    가중치 매개변수를 기울기 방향으로 아주 조금 갱신한다.\r\n",
        " - 4단계: 반복  \r\n",
        "    1~3단계를 반복한다.\r\n",
        "\r\n",
        "> 데이터를 미니배치로 무작위 선정하기 때문에 <b>확률적 경사 하강법</b>stochastic gradient descent(<b>SGD</b>)이라고 부른다. 대부분의 딥러닝 프레임워크는 SGD라는 함수로 이 기능을 구현한다."
      ]
    },
    {
      "cell_type": "markdown",
      "metadata": {
        "id": "FQmKdRdq_nwX"
      },
      "source": [
        "### 4.5.1 2층 신경망 클래스 구현하기"
      ]
    },
    {
      "cell_type": "code",
      "metadata": {
        "id": "fdgB7-KT_AdY"
      },
      "source": [
        "from functions import *\r\n",
        "from gradient import numerical_gradient\r\n",
        "\r\n",
        "class TwoLayerNet:\r\n",
        "\r\n",
        "    def __init__(self, input_size, hidden_size, output_size, weight_init_std=0.01):\r\n",
        "        # 가중치 초기화\r\n",
        "        self.params = {}\r\n",
        "        self.params['W1'] = weight_init_std * np.random.randn(input_size, hidden_size)\r\n",
        "        self.params['b1'] = np.zeros(hidden_size)\r\n",
        "        self.params['W2'] = weight_init_std * np.random.randn(hidden_size, output_size)\r\n",
        "        self.params['b2'] = np.zeros(output_size)\r\n",
        "\r\n",
        "    def predict(self, x):\r\n",
        "        W1, W2 = self.params['W1'], self.params['W2']\r\n",
        "        b1, b2 = self.params['b1'], self.params['b2']\r\n",
        "    \r\n",
        "        a1 = np.dot(x, W1) + b1\r\n",
        "        z1 = sigmoid(a1)\r\n",
        "        a2 = np.dot(z1, W2) + b2\r\n",
        "        y = softmax(a2)\r\n",
        "        \r\n",
        "        return y\r\n",
        "        \r\n",
        "    # x : 입력 데이터, t : 정답 레이블\r\n",
        "    def loss(self, x, t):\r\n",
        "        y = self.predict(x)\r\n",
        "        \r\n",
        "        return cross_entropy_error(y, t)\r\n",
        "    \r\n",
        "    def accuracy(self, x, t):\r\n",
        "        y = self.predict(x)\r\n",
        "        y = np.argmax(y, axis=1)\r\n",
        "        t = np.argmax(t, axis=1)\r\n",
        "        \r\n",
        "        accuracy = np.sum(y == t) / float(x.shape[0])\r\n",
        "        return accuracy\r\n",
        "        \r\n",
        "    # x : 입력 데이터, t : 정답 레이블\r\n",
        "    def numerical_gradient(self, x, t):\r\n",
        "        loss_W = lambda W: self.loss(x, t)\r\n",
        "        \r\n",
        "        grads = {}\r\n",
        "        grads['W1'] = numerical_gradient(loss_W, self.params['W1'])\r\n",
        "        grads['b1'] = numerical_gradient(loss_W, self.params['b1'])\r\n",
        "        grads['W2'] = numerical_gradient(loss_W, self.params['W2'])\r\n",
        "        grads['b2'] = numerical_gradient(loss_W, self.params['b2'])\r\n",
        "        \r\n",
        "        return grads\r\n",
        "        \r\n",
        "    def gradient(self, x, t):\r\n",
        "        W1, W2 = self.params['W1'], self.params['W2']\r\n",
        "        b1, b2 = self.params['b1'], self.params['b2']\r\n",
        "        grads = {}\r\n",
        "        \r\n",
        "        batch_num = x.shape[0]\r\n",
        "        \r\n",
        "        # forward\r\n",
        "        a1 = np.dot(x, W1) + b1\r\n",
        "        z1 = sigmoid(a1)\r\n",
        "        a2 = np.dot(z1, W2) + b2\r\n",
        "        y = softmax(a2)\r\n",
        "        \r\n",
        "        # backward\r\n",
        "        dy = (y - t) / batch_num\r\n",
        "        grads['W2'] = np.dot(z1.T, dy)\r\n",
        "        grads['b2'] = np.sum(dy, axis=0)\r\n",
        "        \r\n",
        "        da1 = np.dot(dy, W2.T)\r\n",
        "        dz1 = sigmoid_grad(a1) * da1\r\n",
        "        grads['W1'] = np.dot(x.T, dz1)\r\n",
        "        grads['b1'] = np.sum(dz1, axis=0)\r\n",
        "\r\n",
        "        return grads"
      ],
      "execution_count": 217,
      "outputs": []
    },
    {
      "cell_type": "code",
      "metadata": {
        "colab": {
          "base_uri": "https://localhost:8080/"
        },
        "id": "uykw8fqDAUlq",
        "outputId": "00102516-51bf-4b38-8a42-5812e35d538f"
      },
      "source": [
        "net = TwoLayerNet(input_size=784, hidden_size=100, output_size=10)\r\n",
        "net.params['W1'].shape"
      ],
      "execution_count": 218,
      "outputs": [
        {
          "output_type": "execute_result",
          "data": {
            "text/plain": [
              "(784, 100)"
            ]
          },
          "metadata": {
            "tags": []
          },
          "execution_count": 218
        }
      ]
    },
    {
      "cell_type": "code",
      "metadata": {
        "colab": {
          "base_uri": "https://localhost:8080/"
        },
        "id": "gj2QrGUBAWpU",
        "outputId": "9fdbb8cd-85c0-449d-84a5-4825a7f31169"
      },
      "source": [
        "net.params['b1'].shape"
      ],
      "execution_count": 219,
      "outputs": [
        {
          "output_type": "execute_result",
          "data": {
            "text/plain": [
              "(100,)"
            ]
          },
          "metadata": {
            "tags": []
          },
          "execution_count": 219
        }
      ]
    },
    {
      "cell_type": "code",
      "metadata": {
        "colab": {
          "base_uri": "https://localhost:8080/"
        },
        "id": "AnLflvAmAX38",
        "outputId": "3e8d80c3-a3d2-4203-9023-0bb3e636500a"
      },
      "source": [
        "net.params['W2'].shape"
      ],
      "execution_count": 220,
      "outputs": [
        {
          "output_type": "execute_result",
          "data": {
            "text/plain": [
              "(100, 10)"
            ]
          },
          "metadata": {
            "tags": []
          },
          "execution_count": 220
        }
      ]
    },
    {
      "cell_type": "code",
      "metadata": {
        "colab": {
          "base_uri": "https://localhost:8080/"
        },
        "id": "zfuYKUQVAZdA",
        "outputId": "8e8852e7-f656-4595-c03b-36bce0c99d1a"
      },
      "source": [
        "net.params['b2'].shape"
      ],
      "execution_count": 221,
      "outputs": [
        {
          "output_type": "execute_result",
          "data": {
            "text/plain": [
              "(10,)"
            ]
          },
          "metadata": {
            "tags": []
          },
          "execution_count": 221
        }
      ]
    },
    {
      "cell_type": "markdown",
      "metadata": {
        "id": "6t49qJt7AjUT"
      },
      "source": [
        "- 이와 같이 params 변수에는 이 신경망에 필요한 매개변수가 모두 저장된다.\r\n",
        "- params 변수에 저장된 가중치 매개변수는 예측 처리(순방향 처리)에서 사용된다."
      ]
    },
    {
      "cell_type": "markdown",
      "metadata": {
        "id": "x0iEpob9AySA"
      },
      "source": [
        "- grads 변수에는 params 변수에 대응하는 각 매개변수의 기울기가 저장된다."
      ]
    },
    {
      "cell_type": "code",
      "metadata": {
        "colab": {
          "base_uri": "https://localhost:8080/"
        },
        "id": "1DgpaD81A2dM",
        "outputId": "da8395fe-68a4-4085-bbb4-4eb40e5b06ab"
      },
      "source": [
        "x = np.random.rand(100, 784)\r\n",
        "t = np.random.rand(100, 10)\r\n",
        "\r\n",
        "grads = net.numerical_gradient(x, t) # 시간이 꽤 걸린다. 오파역전파법으로 기울기를 구하면 훨씬 빠르게 구할 수 있다고 한다.\r\n",
        "\r\n",
        "grads['W1'].shape"
      ],
      "execution_count": 222,
      "outputs": [
        {
          "output_type": "execute_result",
          "data": {
            "text/plain": [
              "(784, 100)"
            ]
          },
          "metadata": {
            "tags": []
          },
          "execution_count": 222
        }
      ]
    },
    {
      "cell_type": "code",
      "metadata": {
        "colab": {
          "base_uri": "https://localhost:8080/"
        },
        "id": "wETVdEY9BGf7",
        "outputId": "2139a25d-920b-469c-90f4-8b9138b68c94"
      },
      "source": [
        "grads['b1'].shape"
      ],
      "execution_count": 223,
      "outputs": [
        {
          "output_type": "execute_result",
          "data": {
            "text/plain": [
              "(100,)"
            ]
          },
          "metadata": {
            "tags": []
          },
          "execution_count": 223
        }
      ]
    },
    {
      "cell_type": "code",
      "metadata": {
        "colab": {
          "base_uri": "https://localhost:8080/"
        },
        "id": "WDNol8M4BHyK",
        "outputId": "6973a9d9-e3b5-4a2f-c9e2-e435be99b7f1"
      },
      "source": [
        "grads['W2'].shape"
      ],
      "execution_count": 224,
      "outputs": [
        {
          "output_type": "execute_result",
          "data": {
            "text/plain": [
              "(100, 10)"
            ]
          },
          "metadata": {
            "tags": []
          },
          "execution_count": 224
        }
      ]
    },
    {
      "cell_type": "code",
      "metadata": {
        "colab": {
          "base_uri": "https://localhost:8080/"
        },
        "id": "o-MjJTjaBJNr",
        "outputId": "233a4b6f-9a73-4570-9271-9bfda4630181"
      },
      "source": [
        "grads['b2'].shape"
      ],
      "execution_count": 225,
      "outputs": [
        {
          "output_type": "execute_result",
          "data": {
            "text/plain": [
              "(10,)"
            ]
          },
          "metadata": {
            "tags": []
          },
          "execution_count": 225
        }
      ]
    },
    {
      "cell_type": "markdown",
      "metadata": {
        "id": "EgpPM6wR_qTp"
      },
      "source": [
        "### 4.5.2 미니배치 학습 구현하기"
      ]
    },
    {
      "cell_type": "code",
      "metadata": {
        "id": "pbDWOeoYEL7U"
      },
      "source": [
        "import numpy as np\r\n",
        "import matplotlib.pyplot as plt\r\n",
        "from mnist import load_mnist\r\n",
        "\r\n",
        "# 데이터 읽기\r\n",
        "(x_train, t_train), (x_test, t_test) = load_mnist(normalize=True, one_hot_label=True)\r\n",
        "\r\n",
        "train_loss_list = []\r\n",
        "\r\n",
        "# 하이퍼파라미터\r\n",
        "iters_num = 10000  # 반복 횟수를 적절히 설정한다.\r\n",
        "train_size = x_train.shape[0]\r\n",
        "batch_size = 100   # 미니배치 크기\r\n",
        "learning_rate = 0.1\r\n",
        "\r\n",
        "network = TwoLayerNet(input_size=784, hidden_size=50, output_size=10)\r\n",
        "\r\n",
        "for i in range(iters_num):\r\n",
        "    # 미니배치 획득\r\n",
        "    batch_mask = np.random.choice(train_size, batch_size)\r\n",
        "    x_batch = x_train[batch_mask]\r\n",
        "    t_batch = t_train[batch_mask]\r\n",
        "    \r\n",
        "    # 기울기 계산\r\n",
        "    #grad = network.numerical_gradient(x_batch, t_batch)\r\n",
        "    grad = network.gradient(x_batch, t_batch)\r\n",
        "    \r\n",
        "    # 매개변수 갱신\r\n",
        "    for key in ('W1', 'b1', 'W2', 'b2'):\r\n",
        "        network.params[key] -= learning_rate * grad[key]\r\n",
        "    \r\n",
        "    # 학습 경과 기록\r\n",
        "    loss = network.loss(x_batch, t_batch)\r\n",
        "    train_loss_list.append(loss)"
      ],
      "execution_count": 228,
      "outputs": []
    },
    {
      "cell_type": "markdown",
      "metadata": {
        "id": "dTtouWZZFhOm"
      },
      "source": [
        "- 손실 함수의 값은 학습 횟수가 늘면서 줄어든다. 다시 말해 데이터를 반복학습함으로써 최적 가중치 매개변수로 다가선다."
      ]
    },
    {
      "cell_type": "markdown",
      "metadata": {
        "id": "etZLxqWw_uW5"
      },
      "source": [
        "### 4.5.3 시험 데이터로 평가하기"
      ]
    },
    {
      "cell_type": "markdown",
      "metadata": {
        "id": "yLRGYsz-FyEn"
      },
      "source": [
        "- 에폭은 하나의 단위이다. 1에폭은 학습에서 훈련 데이터를 모두 소진했을 때의 횟수에 해당한다.\r\n",
        " - 예컨대 훈련 데이터 10,000개를 100개의 미니배치로 학습할 경우, 확률적 경사 하강법을 100회 반복하면 모든 훈련데이터를 소진한 게 된다. 이 경우 100회가 1에폭이 된다.\r\n",
        "- 정확도는 1에폭마다 계산한다.\r\n",
        " - for문 안에서 매번 계산하기에는 시간이 오래 걸리고, 또 그렇게 자주 기록할 필요도 없기 때문이다.\r\n",
        " - 더 큰 관점에서 추이를 알 수 있으면 충분하다."
      ]
    },
    {
      "cell_type": "code",
      "metadata": {
        "colab": {
          "base_uri": "https://localhost:8080/",
          "height": 582
        },
        "id": "xhue6YM3G0I0",
        "outputId": "69813e5a-fdb0-479f-a7b7-5897032ef83e"
      },
      "source": [
        "# 미니배치 학습 구현에서 사용했던 코드를 추가 활용하여, 훈련 데이터와 시험 데이터에 대한 정확도 추이를 그래프로 나타내 보자.\r\n",
        "\r\n",
        "# 데이터 읽기\r\n",
        "(x_train, t_train), (x_test, t_test) = load_mnist(normalize=True, one_hot_label=True)\r\n",
        "\r\n",
        "network = TwoLayerNet(input_size=784, hidden_size=50, output_size=10)\r\n",
        "\r\n",
        "# 하이퍼파라미터\r\n",
        "iters_num = 10000  # 반복 횟수를 적절히 설정한다.\r\n",
        "train_size = x_train.shape[0]\r\n",
        "batch_size = 100   # 미니배치 크기\r\n",
        "learning_rate = 0.1\r\n",
        "\r\n",
        "train_loss_list = []\r\n",
        "train_acc_list = []\r\n",
        "test_acc_list = []\r\n",
        "\r\n",
        "# 1에폭당 반복 수\r\n",
        "iter_per_epoch = max(train_size / batch_size, 1)\r\n",
        "\r\n",
        "for i in range(iters_num):\r\n",
        "    # 미니배치 획득\r\n",
        "    batch_mask = np.random.choice(train_size, batch_size)\r\n",
        "    x_batch = x_train[batch_mask]\r\n",
        "    t_batch = t_train[batch_mask]\r\n",
        "    \r\n",
        "    # 기울기 계산\r\n",
        "    #grad = network.numerical_gradient(x_batch, t_batch)\r\n",
        "    grad = network.gradient(x_batch, t_batch)\r\n",
        "    \r\n",
        "    # 매개변수 갱신\r\n",
        "    for key in ('W1', 'b1', 'W2', 'b2'):\r\n",
        "        network.params[key] -= learning_rate * grad[key]\r\n",
        "    \r\n",
        "    # 학습 경과 기록\r\n",
        "    loss = network.loss(x_batch, t_batch)\r\n",
        "    train_loss_list.append(loss)\r\n",
        "    \r\n",
        "    # 1에폭당 정확도 계산\r\n",
        "    if i % iter_per_epoch == 0:\r\n",
        "        train_acc = network.accuracy(x_train, t_train)\r\n",
        "        test_acc = network.accuracy(x_test, t_test)\r\n",
        "        train_acc_list.append(train_acc)\r\n",
        "        test_acc_list.append(test_acc)\r\n",
        "        print(\"train acc, test acc | \" + str(train_acc) + \", \" + str(test_acc))\r\n",
        "\r\n",
        "# 그래프 그리기\r\n",
        "markers = {'train': 'o', 'test': 's'}\r\n",
        "x = np.arange(len(train_acc_list))\r\n",
        "plt.plot(x, train_acc_list, label='train acc')\r\n",
        "plt.plot(x, test_acc_list, label='test acc', linestyle='--')\r\n",
        "plt.xlabel(\"epochs\")\r\n",
        "plt.ylabel(\"accuracy\")\r\n",
        "plt.ylim(0, 1.0)\r\n",
        "plt.legend(loc='lower right')\r\n",
        "plt.show()\r\n"
      ],
      "execution_count": 231,
      "outputs": [
        {
          "output_type": "stream",
          "text": [
            "train acc, test acc | 0.10441666666666667, 0.1028\n",
            "train acc, test acc | 0.7875666666666666, 0.7934\n",
            "train acc, test acc | 0.8743333333333333, 0.8771\n",
            "train acc, test acc | 0.8960833333333333, 0.902\n",
            "train acc, test acc | 0.9083666666666667, 0.9134\n",
            "train acc, test acc | 0.91455, 0.9172\n",
            "train acc, test acc | 0.91995, 0.9224\n",
            "train acc, test acc | 0.9252166666666667, 0.9262\n",
            "train acc, test acc | 0.92885, 0.9302\n",
            "train acc, test acc | 0.9325166666666667, 0.933\n",
            "train acc, test acc | 0.9351666666666667, 0.9359\n",
            "train acc, test acc | 0.938, 0.9372\n",
            "train acc, test acc | 0.9402, 0.9392\n",
            "train acc, test acc | 0.9419666666666666, 0.941\n",
            "train acc, test acc | 0.9443666666666667, 0.9439\n",
            "train acc, test acc | 0.9461833333333334, 0.9436\n",
            "train acc, test acc | 0.94815, 0.9462\n"
          ],
          "name": "stdout"
        },
        {
          "output_type": "display_data",
          "data": {
            "image/png": "[encoded data removed]",
            "text/plain": [
              "<Figure size 432x288 with 1 Axes>"
            ]
          },
          "metadata": {
            "tags": [],
            "needs_background": "light"
          }
        }
      ]
    },
    {
      "cell_type": "markdown",
      "metadata": {
        "id": "3OkI_pq4Gy1a"
      },
      "source": [
        "- 에폭이 진행될수록(학습이 진행될수록) 훈련 데이터와 시험 데이터를 사용하고 평가한 정확도가 모두 좋아지고 있으며, 두 정확도에는 차이가 없으므로 위 학습에서는 오버피팅이 일어나지 않았다.\r\n",
        "- 훈련 데이터에 지나치게 적응하는 오버피팅이 발생할 경우, 훈련 데이터와 다른 데이터를 보면 잘못된 판단을 하기 시작하여 어느 순간부터 시험 데이터에 대한 정확도가 점차 떨어진다.\r\n",
        " - 오버피팅이 시작되는 순간을 포착해 학습을 중단하면 오버피팅을 효과적으로 예방할 수 있다.\r\n",
        " - 이 기법을 조기 종료(early stopping)라 하며, 챕터6에서 소개하는 '가중치 감소', '드롭아웃'과 함께 대표적인 오버피팅 예방법이다."
      ]
    },
    {
      "cell_type": "markdown",
      "metadata": {
        "id": "lg0ChE6g_w_m"
      },
      "source": [
        "## 4.6 정리"
      ]
    },
    {
      "cell_type": "markdown",
      "metadata": {
        "id": "6TCd995RIUsA"
      },
      "source": [
        "- 기계학습에서 사용하는 데이터셋은 훈련 데이터와 시험 데이터로 나눠 사용한다.\r\n",
        "- 훈련 데이터로 학습한 모델의 범용 능력을 시험 데이터로 평가한다.\r\n",
        "- 신경망 학습은 손실 함수를 지표로, 손실 함수의 값이 작아지는 방향으로 가중치 매개변수를 갱신한다.\r\n",
        "- 가중치 매개변수를 갱신할 때는 가중치 매개변수의 기울기를 이용하고, 기울어진 방향으로 가중치의 값을 갱신하는 작업을 반복한다.\r\n",
        "- 아주 작은 값을 주었을 때의 차분으로 미분하는 것을 수치 미분이라고 한다.\r\n",
        "- 수치 미분을 이용해 가중치 매개변수의 기울기를 구할 수 있다.\r\n",
        "- 수치 미분을 이용한 계산에는 시간이 걸리지만, 그 구현은 간단한다. 한편, 다음 장에서 구현하는 (다소 복잡한) 오차역전파법은 기울기를 고속으로 구할 수 있다."
      ]
    }
  ]
}