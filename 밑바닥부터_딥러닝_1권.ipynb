{
  "nbformat": 4,
  "nbformat_minor": 0,
  "metadata": {
    "kernelspec": {
      "display_name": "Python 3",
      "language": "python",
      "name": "python3"
    },
    "language_info": {
      "codemirror_mode": {
        "name": "ipython",
        "version": 3
      },
      "file_extension": ".py",
      "mimetype": "text/x-python",
      "name": "python",
      "nbconvert_exporter": "python",
      "pygments_lexer": "ipython3",
      "version": "3.8.3"
    },
    "toc": {
      "base_numbering": 1,
      "nav_menu": {},
      "number_sections": true,
      "sideBar": true,
      "skip_h1_title": false,
      "title_cell": "Table of Contents",
      "title_sidebar": "Contents",
      "toc_cell": false,
      "toc_position": {
        "height": "calc(100% - 180px)",
        "left": "10px",
        "top": "150px",
        "width": "279.273px"
      },
      "toc_section_display": true,
      "toc_window_display": true
    },
    "colab": {
      "name": "밑바닥부터 딥러닝 1권.ipynb",
      "provenance": [],
      "toc_visible": true,
      "include_colab_link": true
    }
  },
  "cells": [
    {
      "cell_type": "markdown",
      "metadata": {
        "id": "view-in-github",
        "colab_type": "text"
      },
      "source": [
        "<a href=\"https://colab.research.google.com/github/fkvl0327/deepLearning/blob/main/%EB%B0%91%EB%B0%94%EB%8B%A5%EB%B6%80%ED%84%B0_%EB%94%A5%EB%9F%AC%EB%8B%9D_1%EA%B6%8C.ipynb\" target=\"_parent\"><img src=\"https://colab.research.google.com/assets/colab-badge.svg\" alt=\"Open In Colab\"/></a>"
      ]
    },
    {
      "cell_type": "markdown",
      "metadata": {
        "id": "gNNPxjg3S0Ql"
      },
      "source": [
        "# 퍼셉트론"
      ]
    },
    {
      "cell_type": "markdown",
      "metadata": {
        "id": "fgTiW3r-S0Qv"
      },
      "source": [
        "## 단순한 논리회로"
      ]
    },
    {
      "cell_type": "markdown",
      "metadata": {
        "id": "IJuRpTbwS0Qw"
      },
      "source": [
        "### AND 게이트"
      ]
    },
    {
      "cell_type": "markdown",
      "metadata": {
        "id": "8oeSeCG7S0Qx"
      },
      "source": [
        "- x1과 x2 모두가 1일 때만 가중 신호의 총합이 주어진 임계값을 웃돈다."
      ]
    },
    {
      "cell_type": "markdown",
      "metadata": {
        "id": "Vuzu5QVdS0Qx"
      },
      "source": [
        "### NAND 게이트와 OR 게이트"
      ]
    },
    {
      "cell_type": "markdown",
      "metadata": {
        "id": "8r5XNOYaS0Qx"
      },
      "source": [
        "- NAND = Not AND\n",
        "\n",
        "> AND 게이트의 출력을 뒤집은 것\n",
        "\n",
        "> x1과 x2 모두 1일 때만 0을 출력하고, 그 외에는 1을 출력\n",
        "\n",
        "- OR 게이트: 입력 신호 중 하나 이상이 1이면 출력이 1이 되는 논리 회로"
      ]
    },
    {
      "cell_type": "markdown",
      "metadata": {
        "id": "Mcn36YWgS0Qy"
      },
      "source": [
        "## 퍼셉트론 구현하기"
      ]
    },
    {
      "cell_type": "markdown",
      "metadata": {
        "id": "CSjXSF6GS0Qy"
      },
      "source": [
        "### 간단한 구현부터"
      ]
    },
    {
      "cell_type": "code",
      "metadata": {
        "id": "vZnanAEHS0Qy"
      },
      "source": [
        "def AND(x1, x2):\n",
        "    w1, w2, theta = 0.5, 0.5, 0.7\n",
        "    tmp = x1*w1 + x2*w2\n",
        "    if tmp <= theta:\n",
        "        return 0\n",
        "    elif tmp > theta:\n",
        "        return 1"
      ],
      "execution_count": null,
      "outputs": []
    },
    {
      "cell_type": "code",
      "metadata": {
        "id": "s5VGR0GtS0Qz",
        "outputId": "1ba805fa-36e4-4f98-fd25-f9c14a2d2b7c"
      },
      "source": [
        "AND(0,0)"
      ],
      "execution_count": null,
      "outputs": [
        {
          "output_type": "execute_result",
          "data": {
            "text/plain": [
              "0"
            ]
          },
          "metadata": {
            "tags": []
          },
          "execution_count": 34
        }
      ]
    },
    {
      "cell_type": "code",
      "metadata": {
        "id": "4S3VlMRkS0Q0",
        "outputId": "06d603c0-601b-4c8c-e3a4-6093bbd24462"
      },
      "source": [
        "AND(1,0)"
      ],
      "execution_count": null,
      "outputs": [
        {
          "output_type": "execute_result",
          "data": {
            "text/plain": [
              "0"
            ]
          },
          "metadata": {
            "tags": []
          },
          "execution_count": 35
        }
      ]
    },
    {
      "cell_type": "code",
      "metadata": {
        "id": "upD95NLLS0Q0",
        "outputId": "4792b6cd-79fd-407a-fc8e-d0465ca9958c"
      },
      "source": [
        "AND(0,1)"
      ],
      "execution_count": null,
      "outputs": [
        {
          "output_type": "execute_result",
          "data": {
            "text/plain": [
              "0"
            ]
          },
          "metadata": {
            "tags": []
          },
          "execution_count": 36
        }
      ]
    },
    {
      "cell_type": "code",
      "metadata": {
        "id": "RNazFDdES0Q1",
        "outputId": "5fb4e2a8-e582-4bee-e5ce-2af329903961"
      },
      "source": [
        "AND(1,1)"
      ],
      "execution_count": null,
      "outputs": [
        {
          "output_type": "execute_result",
          "data": {
            "text/plain": [
              "1"
            ]
          },
          "metadata": {
            "tags": []
          },
          "execution_count": 37
        }
      ]
    },
    {
      "cell_type": "markdown",
      "metadata": {
        "id": "ISNfNXI-S0Q1"
      },
      "source": [
        "### 가중치와 편향 도입"
      ]
    },
    {
      "cell_type": "markdown",
      "metadata": {
        "id": "l2VCpqMqS0Q1"
      },
      "source": [
        "- -theta를 편향 b로 치환"
      ]
    },
    {
      "cell_type": "code",
      "metadata": {
        "id": "ROFh0ZroS0Q2",
        "outputId": "6b16f06d-52ac-4358-b5a1-921a6730ecea"
      },
      "source": [
        "import numpy as np\n",
        "x = np.array([0, 1]) # 입력\n",
        "w = np.array([0.5, 0.5]) # 가중치\n",
        "b = -0.7 # 편향\n",
        "w*x"
      ],
      "execution_count": null,
      "outputs": [
        {
          "output_type": "execute_result",
          "data": {
            "text/plain": [
              "array([0. , 0.5])"
            ]
          },
          "metadata": {
            "tags": []
          },
          "execution_count": 38
        }
      ]
    },
    {
      "cell_type": "code",
      "metadata": {
        "id": "RAbepX5XS0Q2",
        "outputId": "4e4476b0-3b33-4a84-c882-a5aff8bed7f3"
      },
      "source": [
        "np.sum(w*x)"
      ],
      "execution_count": null,
      "outputs": [
        {
          "output_type": "execute_result",
          "data": {
            "text/plain": [
              "0.5"
            ]
          },
          "metadata": {
            "tags": []
          },
          "execution_count": 39
        }
      ]
    },
    {
      "cell_type": "code",
      "metadata": {
        "id": "cB8_qMHtS0Q5",
        "outputId": "590930ac-7742-4be1-b9dd-17af7baadc5b"
      },
      "source": [
        "np.sum(w*x)+b"
      ],
      "execution_count": null,
      "outputs": [
        {
          "output_type": "execute_result",
          "data": {
            "text/plain": [
              "-0.19999999999999996"
            ]
          },
          "metadata": {
            "tags": []
          },
          "execution_count": 40
        }
      ]
    },
    {
      "cell_type": "markdown",
      "metadata": {
        "id": "E3kRFiCgS0Q5"
      },
      "source": [
        "### 가중치와 편향 구현하기"
      ]
    },
    {
      "cell_type": "markdown",
      "metadata": {
        "id": "PX1yzcUaS0Q6"
      },
      "source": [
        "- AND 게이트"
      ]
    },
    {
      "cell_type": "code",
      "metadata": {
        "id": "XFaoLxQZS0Q6"
      },
      "source": [
        "def AND(x1, x2):\n",
        "    x = np.array([x1, x2])\n",
        "    w = np.array([0.5, 0.5])\n",
        "    b = -0.7\n",
        "    tmp = np.sum(w*x)+b\n",
        "    if tmp <=0:\n",
        "        return 0\n",
        "    else:\n",
        "        return 1"
      ],
      "execution_count": null,
      "outputs": []
    },
    {
      "cell_type": "markdown",
      "metadata": {
        "id": "jOGldVsYS0Q7"
      },
      "source": [
        "- NAND 게이트"
      ]
    },
    {
      "cell_type": "code",
      "metadata": {
        "id": "_iyHFCtgS0Q7"
      },
      "source": [
        "def NAND(x1, x2):\n",
        "    x = np.array([x1, x2])\n",
        "    w = np.array([-0.5, -0.5])\n",
        "    b = 0.7\n",
        "    tmp = np.sum(w*x)+b\n",
        "    if tmp <= 0:\n",
        "        return 0\n",
        "    else:\n",
        "        return 1"
      ],
      "execution_count": null,
      "outputs": []
    },
    {
      "cell_type": "markdown",
      "metadata": {
        "id": "WDGWepngS0Q8"
      },
      "source": [
        "- OR 게이트"
      ]
    },
    {
      "cell_type": "code",
      "metadata": {
        "id": "9Lknug9US0Q8"
      },
      "source": [
        "def OR(x1, x2):\n",
        "    x = np.array([x1, x2])\n",
        "    w = np.array([0.5, 0.5])\n",
        "    b = -0.2\n",
        "    tmp = np.sum(w*x)+b\n",
        "    if tmp <=0:\n",
        "        return 0\n",
        "    else:\n",
        "        return 1"
      ],
      "execution_count": null,
      "outputs": []
    },
    {
      "cell_type": "markdown",
      "metadata": {
        "id": "aCEPP0XtS0Q8"
      },
      "source": [
        "## 퍼셉트론의 한계"
      ]
    },
    {
      "cell_type": "markdown",
      "metadata": {
        "id": "Z9bqR3BvS0Q9"
      },
      "source": [
        "### XOR 게이트"
      ]
    },
    {
      "cell_type": "markdown",
      "metadata": {
        "id": "Mk3UBUofS0Q9"
      },
      "source": [
        "- 배타적 논리합: x1과 x2 중 한쪽이 1일 때만 1을 출력"
      ]
    },
    {
      "cell_type": "markdown",
      "metadata": {
        "id": "EX0XhkGIS0Q9"
      },
      "source": [
        "### 선형과 비선형"
      ]
    },
    {
      "cell_type": "markdown",
      "metadata": {
        "id": "FSdI5UErS0Q9"
      },
      "source": [
        "- 단순 퍼셉트론은 직선 하나로 나눈 영역만 표현할 수 있다는 한계가 있다.\n",
        "- 곡선의 영역을 비선형 영역, 직선의 영역을 선형 영역이라고 한다."
      ]
    },
    {
      "cell_type": "markdown",
      "metadata": {
        "id": "MJdZ0wg7S0Q-"
      },
      "source": [
        "## 다중 퍼셉트론"
      ]
    },
    {
      "cell_type": "markdown",
      "metadata": {
        "id": "QJyW120jS0Q-"
      },
      "source": [
        "### 기존 게이트 조합하기"
      ]
    },
    {
      "cell_type": "markdown",
      "metadata": {
        "id": "edxhjsv4S0Q-"
      },
      "source": [
        "- x1과 x2가 입력 신호, y가 출력 신호\n",
        "- x1과 x2는 NAND와 OR 게이트의 입력, NAND와 OR의 출력이 AND 게이트의 입력으로 이어진다."
      ]
    },
    {
      "cell_type": "markdown",
      "metadata": {
        "id": "gcpO7fp1S0Q-"
      },
      "source": [
        "### XOR 게이트 구현하기"
      ]
    },
    {
      "cell_type": "code",
      "metadata": {
        "id": "dMLxs1XqS0Q_"
      },
      "source": [
        "def XOR(x1, x2):\n",
        "    s1 = NAND(x1, x2)\n",
        "    s2 = OR(x1, x2)\n",
        "    y = AND(s1, s2)\n",
        "    return y"
      ],
      "execution_count": null,
      "outputs": []
    },
    {
      "cell_type": "code",
      "metadata": {
        "id": "xgCfjM3GS0Q_",
        "outputId": "476208c0-2cf8-499c-e833-72278c2a3169"
      },
      "source": [
        "XOR(0,0)"
      ],
      "execution_count": null,
      "outputs": [
        {
          "output_type": "execute_result",
          "data": {
            "text/plain": [
              "0"
            ]
          },
          "metadata": {
            "tags": []
          },
          "execution_count": 48
        }
      ]
    },
    {
      "cell_type": "code",
      "metadata": {
        "id": "K5TxLOOgS0Q_",
        "outputId": "ab9938a1-45d6-4353-8876-8587b49d731c"
      },
      "source": [
        "XOR(1,0)"
      ],
      "execution_count": null,
      "outputs": [
        {
          "output_type": "execute_result",
          "data": {
            "text/plain": [
              "1"
            ]
          },
          "metadata": {
            "tags": []
          },
          "execution_count": 45
        }
      ]
    },
    {
      "cell_type": "code",
      "metadata": {
        "id": "n5wY9MnKS0RA",
        "outputId": "120c8e63-79a5-4b8f-a964-c5ce1b9c2af0"
      },
      "source": [
        "XOR(0,1)"
      ],
      "execution_count": null,
      "outputs": [
        {
          "output_type": "execute_result",
          "data": {
            "text/plain": [
              "1"
            ]
          },
          "metadata": {
            "tags": []
          },
          "execution_count": 46
        }
      ]
    },
    {
      "cell_type": "code",
      "metadata": {
        "id": "4ThJowYrS0RA",
        "outputId": "e7c0c9bc-1dd7-48e7-b0db-994652886566"
      },
      "source": [
        "XOR(1,1)"
      ],
      "execution_count": null,
      "outputs": [
        {
          "output_type": "execute_result",
          "data": {
            "text/plain": [
              "0"
            ]
          },
          "metadata": {
            "tags": []
          },
          "execution_count": 47
        }
      ]
    },
    {
      "cell_type": "markdown",
      "metadata": {
        "id": "zrQv0qx2S0RB"
      },
      "source": [
        "# 신경망"
      ]
    },
    {
      "cell_type": "markdown",
      "metadata": {
        "id": "cY-RrFFMS0RB"
      },
      "source": [
        "- 퍼셉트론\n",
        "\n",
        "> GOOD: 복잡한 함수도 표현할 수 있다\n",
        "\n",
        "> BAD: 가중치를 설정하는 작업(원하는 결과를 출력하도록 가중치 값을 적절히 정하는 작업)은 사람이 수동으로 한다 = AND, OR 게이트의 진리표를 보면서 인간이 적절한 가중치 값을 결정\n",
        "\n",
        "- 신경망이 퍼셉트론의 한계를 개선한다\n",
        "\n",
        "> 신경망의 중요한 성질: 가중치 매개변수의 적절한 값을 데이터로부터 자동으로 학습하는 능력\n",
        "\n",
        "- 이번 장의 내용\n",
        "\n",
        "> 신경망 개요 설명\n",
        "\n",
        "> 신경망이 입력 데이터가 무엇인지 식별하는 처리과정을 살펴봄\n",
        "\n",
        "\n",
        "*데이터에서 가중치 매개변수 값을 학습하는 방법은 다음 장에서)"
      ]
    },
    {
      "cell_type": "markdown",
      "metadata": {
        "id": "-SwICaw5S0RB"
      },
      "source": [
        "## 퍼셉트론에서 신경망으로"
      ]
    },
    {
      "cell_type": "markdown",
      "metadata": {
        "id": "F5LURTzWS0RB"
      },
      "source": [
        "### 신경망의 예"
      ]
    },
    {
      "cell_type": "markdown",
      "metadata": {
        "id": "w1gcPJQKS0RC"
      },
      "source": [
        "### 퍼셉트론 복습"
      ]
    },
    {
      "cell_type": "markdown",
      "metadata": {
        "id": "3ZpeHo4rS0RC"
      },
      "source": [
        "### 활성화 함수의 등장"
      ]
    },
    {
      "cell_type": "markdown",
      "metadata": {
        "id": "3tg5OnOpS0RC"
      },
      "source": [
        "## 활성화 함수"
      ]
    },
    {
      "cell_type": "markdown",
      "metadata": {
        "id": "EXE-8tYaS0RC"
      },
      "source": [
        "### 시그모이드 함수"
      ]
    },
    {
      "cell_type": "markdown",
      "metadata": {
        "id": "w9OwIFjHS0RD"
      },
      "source": [
        "### 계단 함수 구현하기"
      ]
    },
    {
      "cell_type": "markdown",
      "metadata": {
        "id": "BP_tcrSlS0RD"
      },
      "source": [
        "### 계단 함수의 그래프"
      ]
    },
    {
      "cell_type": "markdown",
      "metadata": {
        "id": "eFB-m129S0RD"
      },
      "source": [
        "### 시그모이드 함수 구현하기"
      ]
    },
    {
      "cell_type": "markdown",
      "metadata": {
        "id": "OOqbUDvSS0RD"
      },
      "source": [
        "### 시그모이드 함수와 계단 함수 비교"
      ]
    },
    {
      "cell_type": "markdown",
      "metadata": {
        "id": "LSCBMEG0S0RE"
      },
      "source": [
        "### 비선형 함수"
      ]
    },
    {
      "cell_type": "markdown",
      "metadata": {
        "id": "FgcgJriFS0RE"
      },
      "source": [
        "### ReLU 함수"
      ]
    },
    {
      "cell_type": "markdown",
      "metadata": {
        "id": "zaISa70LS0RE"
      },
      "source": [
        "## 다차원 배열의 계산"
      ]
    },
    {
      "cell_type": "markdown",
      "metadata": {
        "id": "1ezhRkoeS0RE"
      },
      "source": [
        "### 다차원 배열"
      ]
    },
    {
      "cell_type": "markdown",
      "metadata": {
        "id": "WJjO6kUcS0RE"
      },
      "source": [
        "### 행렬의 곱"
      ]
    },
    {
      "cell_type": "markdown",
      "metadata": {
        "id": "86Sp8CCtS0RF"
      },
      "source": [
        "### 신경망에서의 행렬 곱"
      ]
    },
    {
      "cell_type": "markdown",
      "metadata": {
        "id": "qt3dLw3aS0RF"
      },
      "source": [
        "## 3층 신경망 구현하기"
      ]
    },
    {
      "cell_type": "markdown",
      "metadata": {
        "id": "dizqiolmS0RF"
      },
      "source": [
        "### 표기법 설명"
      ]
    },
    {
      "cell_type": "markdown",
      "metadata": {
        "id": "rW5NYVLAS0RF"
      },
      "source": [
        "### 각 층의 신호 전달 구현하기"
      ]
    },
    {
      "cell_type": "markdown",
      "metadata": {
        "id": "XKChOyhlS0RG"
      },
      "source": [
        "### 구현 정리"
      ]
    },
    {
      "cell_type": "markdown",
      "metadata": {
        "id": "WwgQgR88S0RG"
      },
      "source": [
        "## 출력층 설계하기"
      ]
    },
    {
      "cell_type": "markdown",
      "metadata": {
        "id": "DXIGxkSVS0RG"
      },
      "source": [
        "### 항등 함수와 소프트맥스 함수 구현하기"
      ]
    },
    {
      "cell_type": "markdown",
      "metadata": {
        "id": "TQU71tBBS0RG"
      },
      "source": [
        "### 소프트맥스 함수 구현 시 주의점"
      ]
    },
    {
      "cell_type": "markdown",
      "metadata": {
        "id": "FptVGAdIS0RH"
      },
      "source": [
        "### 소프트맥스 함수의 특징"
      ]
    },
    {
      "cell_type": "markdown",
      "metadata": {
        "id": "4NpMIbJLS0RH"
      },
      "source": [
        "### 출력층의 뉴런 수 정하기"
      ]
    },
    {
      "cell_type": "markdown",
      "metadata": {
        "id": "wpqC3XWKS0RH"
      },
      "source": [
        "## 손글씨 숫자 인식"
      ]
    },
    {
      "cell_type": "markdown",
      "metadata": {
        "id": "2VLYa0oXS0RH"
      },
      "source": [
        "### MNIST 데이터셋"
      ]
    },
    {
      "cell_type": "markdown",
      "metadata": {
        "id": "6q86mUxzS0RH"
      },
      "source": [
        "### 신경망의 추론 처리"
      ]
    },
    {
      "cell_type": "markdown",
      "metadata": {
        "id": "RbOkIWvDS0RI"
      },
      "source": [
        "### 배치 처리"
      ]
    },
    {
      "cell_type": "markdown",
      "metadata": {
        "id": "t6yYltNtS0RI"
      },
      "source": [
        "## 정리"
      ]
    }
  ]
}